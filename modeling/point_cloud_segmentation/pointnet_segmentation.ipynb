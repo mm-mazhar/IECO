{
  "nbformat": 4,
  "nbformat_minor": 0,
  "metadata": {
    "kernelspec": {
      "name": "python3",
      "display_name": "Python 3"
    },
    "language_info": {
      "codemirror_mode": {
        "name": "ipython",
        "version": 3
      },
      "file_extension": ".py",
      "mimetype": "text/x-python",
      "name": "python",
      "nbconvert_exporter": "python",
      "pygments_lexer": "ipython3",
      "version": "3.7.1"
    },
    "colab": {
      "provenance": [],
      "machine_shape": "hm",
      "gpuType": "T4"
    },
    "accelerator": "GPU"
  },
  "cells": [
    {
      "cell_type": "code",
      "source": [
        "# -*- coding: utf-8 -*-\n",
        "# \"\"\"\n",
        "# PointNetSeg.ipynb\n",
        "# Created on Oct Sept 02, 2024\n",
        "# \"\"\""
      ],
      "metadata": {
        "id": "lv-WW9GsFARh"
      },
      "execution_count": 1,
      "outputs": []
    },
    {
      "cell_type": "code",
      "metadata": {
        "id": "KuEIVQsJGUbQ",
        "outputId": "d4a230ee-564a-4769-f7d3-30dddbdd7a3d",
        "colab": {
          "base_uri": "https://localhost:8080/"
        }
      },
      "source": [
        "from google.colab import drive\n",
        "drive.mount('/content/gdrive', force_remount=True)\n",
        "root_dir = \"/content/gdrive/MyDrive/ColabNotebooks/IECO/PointNet_Classification_Segmentation/pointnet\""
      ],
      "execution_count": 2,
      "outputs": [
        {
          "output_type": "stream",
          "name": "stdout",
          "text": [
            "Mounted at /content/gdrive\n"
          ]
        }
      ]
    },
    {
      "cell_type": "code",
      "source": [
        "root_dir"
      ],
      "metadata": {
        "colab": {
          "base_uri": "https://localhost:8080/",
          "height": 35
        },
        "id": "kqQBt4bSigfq",
        "outputId": "7d25fb97-0228-4a0a-8f1d-cc818a14234f"
      },
      "execution_count": 3,
      "outputs": [
        {
          "output_type": "execute_result",
          "data": {
            "text/plain": [
              "'/content/gdrive/MyDrive/ColabNotebooks/IECO/PointNet_Classification_Segmentation/pointnet'"
            ],
            "application/vnd.google.colaboratory.intrinsic+json": {
              "type": "string"
            }
          },
          "metadata": {},
          "execution_count": 3
        }
      ]
    },
    {
      "cell_type": "code",
      "metadata": {
        "id": "PLGjzwFkGUbV"
      },
      "source": [
        "!pip install path.py -q;\n",
        "!pip install gdown -q\n",
        "from path import Path\n",
        "import sys\n",
        "import os\n",
        "import shutil\n",
        "sys.path.append(root_dir)"
      ],
      "execution_count": 4,
      "outputs": []
    },
    {
      "cell_type": "code",
      "metadata": {
        "id": "LB7sxVUtGUbY"
      },
      "source": [
        "import plotly.graph_objects as go\n",
        "import numpy as np\n",
        "import scipy.spatial.distance\n",
        "import math\n",
        "import random\n",
        "import os"
      ],
      "execution_count": 5,
      "outputs": []
    },
    {
      "cell_type": "code",
      "source": [
        "%pwd"
      ],
      "metadata": {
        "colab": {
          "base_uri": "https://localhost:8080/",
          "height": 35
        },
        "id": "VXwWYuT8HtxZ",
        "outputId": "c045ff55-7374-4c14-961e-b281eb68bd36"
      },
      "execution_count": 6,
      "outputs": [
        {
          "output_type": "execute_result",
          "data": {
            "text/plain": [
              "'/content'"
            ],
            "application/vnd.google.colaboratory.intrinsic+json": {
              "type": "string"
            }
          },
          "metadata": {},
          "execution_count": 6
        }
      ]
    },
    {
      "cell_type": "code",
      "source": [
        "def cent_norm(verts):\n",
        "    \"\"\"\n",
        "    Center and normalize the point cloud data.\n",
        "    \"\"\"\n",
        "    centroid = np.mean(verts, axis=0)\n",
        "    verts = verts - centroid\n",
        "    furthest_distance = np.max(np.sqrt(np.sum(verts**2, axis=1)))\n",
        "    verts = verts / furthest_distance\n",
        "    return verts\n",
        "\n",
        "def rotation_z(verts, theta):\n",
        "    \"\"\"\n",
        "    Rotate the point cloud around the z-axis by theta degrees.\n",
        "    \"\"\"\n",
        "    theta = np.radians(theta)\n",
        "    rotation_matrix = np.array([\n",
        "        [np.cos(theta), -np.sin(theta), 0],\n",
        "        [np.sin(theta), np.cos(theta), 0],\n",
        "        [0, 0, 1]\n",
        "    ])\n",
        "    return np.dot(verts, rotation_matrix)\n",
        "\n",
        "def add_noise(verts, noise_level=0.01):\n",
        "    \"\"\"\n",
        "    Add random noise to the point cloud data.\n",
        "    \"\"\"\n",
        "    noise = np.random.normal(0, noise_level, verts.shape)\n",
        "    return verts + noise"
      ],
      "metadata": {
        "id": "iGp-vG8kE87q"
      },
      "execution_count": 7,
      "outputs": []
    },
    {
      "cell_type": "code",
      "metadata": {
        "id": "31PRdnvMOjLd"
      },
      "source": [
        "import random\n",
        "\n",
        "def read_pts(file):\n",
        "    verts = np.genfromtxt(file)\n",
        "    return cent_norm(verts)\n",
        "    # return utils.cent_norm(verts)\n",
        "    #return verts\n",
        "\n",
        "def read_seg(file):\n",
        "    verts = np.genfromtxt(file, dtype= (int))\n",
        "    return verts\n",
        "\n",
        "def sample_2000(pts, pts_cat):\n",
        "    res1 = np.concatenate((pts,np.reshape(pts_cat, (pts_cat.shape[0], 1))), axis= 1)\n",
        "    res = np.asarray(random.choices(res1, weights=None, cum_weights=None, k=2000))\n",
        "    images = res[:, 0:3]\n",
        "    categories = res[:, 3]\n",
        "    categories-=np.ones(categories.shape)\n",
        "\n",
        "    return images, categories"
      ],
      "execution_count": 8,
      "outputs": []
    },
    {
      "cell_type": "markdown",
      "metadata": {
        "id": "4KNH5UtbWWok"
      },
      "source": [
        "## Model"
      ]
    },
    {
      "cell_type": "code",
      "metadata": {
        "id": "yOOrEYSnWV7f"
      },
      "source": [
        "import torch\n",
        "import torch.nn as nn\n",
        "import numpy as np\n",
        "import torch.nn.functional as F\n",
        "\n",
        "class Tnet(nn.Module):\n",
        "   def __init__(self, k=3):\n",
        "      super().__init__()\n",
        "      self.k=k\n",
        "      self.conv1 = nn.Conv1d(k,64,1)\n",
        "      self.conv2 = nn.Conv1d(64,128,1)\n",
        "      self.conv3 = nn.Conv1d(128,1024,1)\n",
        "      self.fc1 = nn.Linear(1024,512)\n",
        "      self.fc2 = nn.Linear(512,256)\n",
        "      self.fc3 = nn.Linear(256,k*k)\n",
        "\n",
        "      self.bn1 = nn.BatchNorm1d(64)\n",
        "      self.bn2 = nn.BatchNorm1d(128)\n",
        "      self.bn3 = nn.BatchNorm1d(1024)\n",
        "      self.bn4 = nn.BatchNorm1d(512)\n",
        "      self.bn5 = nn.BatchNorm1d(256)\n",
        "\n",
        "\n",
        "   def forward(self, input):\n",
        "      # input.shape == (bs,n,3)\n",
        "      bs = input.size(0)\n",
        "      xb = F.relu(self.bn1(self.conv1(input)))\n",
        "      xb = F.relu(self.bn2(self.conv2(xb)))\n",
        "      xb = F.relu(self.bn3(self.conv3(xb)))\n",
        "      pool = nn.MaxPool1d(xb.size(-1))(xb)\n",
        "      flat = nn.Flatten(1)(pool)\n",
        "      xb = F.relu(self.bn4(self.fc1(flat)))\n",
        "      xb = F.relu(self.bn5(self.fc2(xb)))\n",
        "\n",
        "      #initialize as identity\n",
        "      init = torch.eye(self.k, requires_grad=True).repeat(bs,1,1)\n",
        "      if xb.is_cuda:\n",
        "        init=init.cuda()\n",
        "      matrix = self.fc3(xb).view(-1,self.k,self.k) + init\n",
        "      return matrix\n",
        "\n",
        "\n",
        "class Transform(nn.Module):\n",
        "   def __init__(self):\n",
        "        super().__init__()\n",
        "        self.input_transform = Tnet(k=3)\n",
        "        self.feature_transform = Tnet(k=128)\n",
        "        self.fc1 = nn.Conv1d(3,64,1)\n",
        "        self.fc2 = nn.Conv1d(64,128,1)\n",
        "        self.fc3 = nn.Conv1d(128,128,1)\n",
        "        self.fc4 = nn.Conv1d(128,512,1)\n",
        "        self.fc5 = nn.Conv1d(512,2048,1)\n",
        "\n",
        "\n",
        "        self.bn1 = nn.BatchNorm1d(64)\n",
        "        self.bn2 = nn.BatchNorm1d(128)\n",
        "        self.bn3 = nn.BatchNorm1d(128)\n",
        "        self.bn4 = nn.BatchNorm1d(512)\n",
        "        self.bn5 = nn.BatchNorm1d(2048)\n",
        "\n",
        "   def forward(self, input):\n",
        "        n_pts = input.size()[2]\n",
        "        matrix3x3 = self.input_transform(input)\n",
        "        xb = torch.bmm(torch.transpose(input,1,2), matrix3x3).transpose(1,2)\n",
        "        outs = []\n",
        "\n",
        "        out1 = F.relu(self.bn1(self.fc1(xb)))\n",
        "        outs.append(out1)\n",
        "        out2 = F.relu(self.bn2(self.fc2(out1)))\n",
        "        outs.append(out2)\n",
        "        out3 = F.relu(self.bn3(self.fc3(out2)))\n",
        "        outs.append(out3)\n",
        "        matrix128x128 = self.feature_transform(out3)\n",
        "\n",
        "        out4 = torch.bmm(torch.transpose(out3,1,2), matrix128x128).transpose(1,2)\n",
        "        outs.append(out4)\n",
        "        out5 = F.relu(self.bn4(self.fc4(out4)))\n",
        "        outs.append(out5)\n",
        "\n",
        "        xb = self.bn5(self.fc5(out5))\n",
        "\n",
        "        xb = nn.MaxPool1d(xb.size(-1))(xb)\n",
        "        out6 = nn.Flatten(1)(xb).repeat(n_pts,1,1).transpose(0,2).transpose(0,1)#.repeat(1, 1, n_pts)\n",
        "        outs.append(out6)\n",
        "\n",
        "\n",
        "        return outs, matrix3x3, matrix128x128\n",
        "\n",
        "\n",
        "class PointNetSeg(nn.Module):\n",
        "    def __init__(self, classes=10):  # Default to 10 classes, but can be set dynamically\n",
        "        super().__init__()\n",
        "        self.transform = Transform()\n",
        "\n",
        "        self.fc1 = nn.Conv1d(3008, 256, 1)\n",
        "        self.fc2 = nn.Conv1d(256, 256, 1)\n",
        "        self.fc3 = nn.Conv1d(256, 128, 1)\n",
        "        self.fc4 = nn.Conv1d(128, classes, 1)  # Use the `classes` parameter here\n",
        "\n",
        "        self.bn1 = nn.BatchNorm1d(256)\n",
        "        self.bn2 = nn.BatchNorm1d(256)\n",
        "        self.bn3 = nn.BatchNorm1d(128)\n",
        "        self.bn4 = nn.BatchNorm1d(classes)  # Adjust batch norm to the number of classes\n",
        "\n",
        "        self.logsoftmax = nn.LogSoftmax(dim=1)\n",
        "\n",
        "    def forward(self, input):\n",
        "        inputs, matrix3x3, matrix128x128 = self.transform(input)\n",
        "        stack = torch.cat(inputs, 1)\n",
        "\n",
        "        xb = F.relu(self.bn1(self.fc1(stack)))\n",
        "        xb = F.relu(self.bn2(self.fc2(xb)))\n",
        "        xb = F.relu(self.bn3(self.fc3(xb)))\n",
        "\n",
        "        output = F.relu(self.bn4(self.fc4(xb)))\n",
        "\n",
        "        return self.logsoftmax(output), matrix3x3, matrix128x128"
      ],
      "execution_count": 9,
      "outputs": []
    },
    {
      "cell_type": "markdown",
      "metadata": {
        "id": "HdXchtFBWZYG"
      },
      "source": [
        "## Dataset"
      ]
    },
    {
      "cell_type": "code",
      "metadata": {
        "id": "ut50_1uQCFCc"
      },
      "source": [
        "from __future__ import print_function, division\n",
        "import os\n",
        "import torch\n",
        "import pandas as pd\n",
        "from skimage import io, transform\n",
        "import numpy as np\n",
        "import matplotlib.pyplot as plt\n",
        "from torch.utils.data import Dataset, DataLoader\n",
        "from torchvision import transforms, utils\n",
        "from torch.utils.data.dataset import random_split\n",
        "# import utils\n",
        "\n",
        "class Data(Dataset):\n",
        "    \"\"\"Face Landmarks dataset.\"\"\"\n",
        "\n",
        "    def __init__(self, root_dir, valid=False, transform=None):\n",
        "\n",
        "        self.root_dir = root_dir\n",
        "        self.files = []\n",
        "        self.valid=valid\n",
        "\n",
        "        newdir = root_dir + '/data/expert_verified/points_label/'\n",
        "\n",
        "        for file in os.listdir(newdir):\n",
        "            o = {}\n",
        "            o['category'] = newdir + file\n",
        "            # print(o['category'])\n",
        "            o['img_path'] = root_dir + '/data/points/'+ file.replace('.seg', '.pts')\n",
        "            self.files.append(o)\n",
        "\n",
        "\n",
        "\n",
        "    def __len__(self):\n",
        "        return len(self.files)\n",
        "\n",
        "    def __getitem__(self, idx):\n",
        "        img_path = self.files[idx]['img_path']\n",
        "        category = self.files[idx]['category']\n",
        "        with open(img_path, 'r') as f:\n",
        "            image1 = read_pts(f)\n",
        "        with open(category, 'r') as f:\n",
        "            category1 = read_seg(f)\n",
        "        image2, category2 = sample_2000(image1, category1)\n",
        "        if not self.valid:\n",
        "            theta = random.random()*360\n",
        "            # image2 = utils.rotation_z(utils.add_noise(image2), theta)\n",
        "            image2 = rotation_z(add_noise(image2), theta)\n",
        "\n",
        "        return {'image': np.array(image2, dtype=\"float32\"), 'category': category2.astype(int)}\n"
      ],
      "execution_count": 10,
      "outputs": []
    },
    {
      "cell_type": "code",
      "source": [
        "dset = Data(root_dir , transform=None)"
      ],
      "metadata": {
        "id": "HO2NZ8AnM5We"
      },
      "execution_count": 11,
      "outputs": []
    },
    {
      "cell_type": "code",
      "source": [
        "dset[0]"
      ],
      "metadata": {
        "colab": {
          "base_uri": "https://localhost:8080/"
        },
        "id": "BQNSHBjxM7OO",
        "outputId": "b0d8a156-d4bb-4bb6-b670-63d011703dbc"
      },
      "execution_count": 12,
      "outputs": [
        {
          "output_type": "execute_result",
          "data": {
            "text/plain": [
              "{'image': array([[-0.29141837, -0.09733603,  0.06703932],\n",
              "        [-0.04618602,  0.47226623, -0.0262938 ],\n",
              "        [ 0.5259993 , -0.5028936 , -0.03009269],\n",
              "        ...,\n",
              "        [ 0.08609722,  0.43893936,  0.03292134],\n",
              "        [-0.01806649, -0.29052722,  0.05339945],\n",
              "        [-0.28360838, -0.66734713, -0.03541172]], dtype=float32),\n",
              " 'category': array([1, 1, 0, ..., 1, 1, 0])}"
            ]
          },
          "metadata": {},
          "execution_count": 12
        }
      ]
    },
    {
      "cell_type": "code",
      "metadata": {
        "id": "1mUcFS3Uwci6",
        "outputId": "d80594a1-81c7-47de-d7c1-4c5570944291",
        "colab": {
          "base_uri": "https://localhost:8080/"
        }
      },
      "source": [
        "train_num = int(len(dset) * 0.95)\n",
        "val_num = int(len(dset) *0.05)\n",
        "if int(len(dset)) - train_num -  val_num >0 :\n",
        "    train_num = train_num + 1\n",
        "elif int(len(dset)) - train_num -  val_num < 0:\n",
        "    train_num = train_num -1\n",
        "#train_dataset, val_dataset = random_split(dset, [3000, 118])\n",
        "train_dataset, val_dataset = random_split(dset, [train_num, val_num])\n",
        "val_dataset.valid=True\n",
        "\n",
        "print('######### Dataset class created #########')\n",
        "print('Number of images: ', len(dset))\n",
        "print('Sample image shape: ', dset[0]['image'].shape)\n",
        "#print('Sample image points categories', dset[0]['category'], end='\\n\\n')\n",
        "\n",
        "train_loader = DataLoader(dataset=train_dataset, batch_size=64)\n",
        "val_loader = DataLoader(dataset=val_dataset, batch_size=64)\n",
        "\n",
        "#dataloader = torch.utils.data.DataLoader(dset, batch_size=4, shuffle=True, num_workers=4)"
      ],
      "execution_count": 13,
      "outputs": [
        {
          "output_type": "stream",
          "name": "stdout",
          "text": [
            "######### Dataset class created #########\n",
            "Number of images:  233\n",
            "Sample image shape:  (2000, 3)\n"
          ]
        }
      ]
    },
    {
      "cell_type": "markdown",
      "metadata": {
        "id": "gg9RjG7awgVK"
      },
      "source": [
        "## Training loop"
      ]
    },
    {
      "cell_type": "code",
      "metadata": {
        "id": "bq9AUuN5WRxI",
        "outputId": "5662a52b-55a5-40db-b18e-35a8bc2146e5",
        "colab": {
          "base_uri": "https://localhost:8080/"
        }
      },
      "source": [
        "device = torch.device(\"cuda:0\" if torch.cuda.is_available() else \"cpu\")\n",
        "os.environ['CUDA_LAUNCH_BLOCKING'] = '1'\n",
        "print(device)"
      ],
      "execution_count": 14,
      "outputs": [
        {
          "output_type": "stream",
          "name": "stdout",
          "text": [
            "cuda:0\n"
          ]
        }
      ]
    },
    {
      "cell_type": "code",
      "metadata": {
        "id": "cqXW9-oJwEPm"
      },
      "source": [
        "pointnet = PointNetSeg(classes=2)  # For 2 classes"
      ],
      "execution_count": 15,
      "outputs": []
    },
    {
      "cell_type": "code",
      "metadata": {
        "id": "6mA80v2ywHhw"
      },
      "source": [
        "pointnet.to(device);"
      ],
      "execution_count": 16,
      "outputs": []
    },
    {
      "cell_type": "code",
      "metadata": {
        "id": "JV09EA4_wJnR"
      },
      "source": [
        "optimizer = torch.optim.Adam(pointnet.parameters(), lr=0.001)"
      ],
      "execution_count": 17,
      "outputs": []
    },
    {
      "cell_type": "code",
      "metadata": {
        "id": "aDb9rPb_wPWj"
      },
      "source": [
        "def pointnetloss(outputs, labels, m3x3, m128x128, alpha = 0.0001):\n",
        "    criterion = torch.nn.NLLLoss()\n",
        "    bs=outputs.size(0)\n",
        "    id3x3 = torch.eye(3, requires_grad=True).repeat(bs,1,1)\n",
        "    id128x128 = torch.eye(128, requires_grad=True).repeat(bs,1,1)\n",
        "    if outputs.is_cuda:\n",
        "        id3x3=id3x3.cuda()\n",
        "        id128x128=id128x128.cuda()\n",
        "    diff3x3 = id3x3-torch.bmm(m3x3,m3x3.transpose(1,2))\n",
        "    diff128x128 = id128x128-torch.bmm(m128x128,m128x128.transpose(1,2))\n",
        "    return criterion(outputs, labels) + alpha * (torch.norm(diff3x3)+torch.norm(diff128x128)) / float(bs)"
      ],
      "execution_count": 18,
      "outputs": []
    },
    {
      "cell_type": "code",
      "source": [
        "# # Remove Previous Models\n",
        "# if os.path.exists(root_dir+\"/modelsSeg_v0/\"):\n",
        "#     shutil.rmtree(root_dir+\"/modelsSeg_v0/\")"
      ],
      "metadata": {
        "id": "55vtbYvq-cmf"
      },
      "execution_count": 19,
      "outputs": []
    },
    {
      "cell_type": "code",
      "metadata": {
        "id": "CgaPisZFwVzh"
      },
      "source": [
        "# from os.path import exists\n",
        "# def train(model, train_loader, val_loader=None,  epochs=15, save=True):\n",
        "#     for epoch in range(epochs):\n",
        "#         pointnet.train()\n",
        "#         running_loss = 0.0\n",
        "#         for i, data in enumerate(train_loader, 0):\n",
        "#             inputs, labels = data['image'].to(device), data['category'].to(device)\n",
        "#             optimizer.zero_grad()\n",
        "#             outputs, m3x3, m64x64 = pointnet(inputs.transpose(1,2))\n",
        "\n",
        "#             # Debugging prints for labels and outputs\n",
        "#             # print(\"Unique labels:\", torch.unique(labels))\n",
        "#             # print(\"Outputs shape:\", outputs.shape)\n",
        "\n",
        "#             # print(\"Shape of m64x64:\", m64x64.shape)\n",
        "#             # print(\"Outputs shape:\", outputs.shape)\n",
        "#             # print(\"Labels shape:\", labels.shape)\n",
        "#             # print(\"Outputs min/max:\", outputs.min(), outputs.max())\n",
        "#             # print(\"Labels min/max:\", labels.min(), labels.max())\n",
        "\n",
        "#             loss = pointnetloss(outputs, labels, m3x3, m64x64)\n",
        "#             loss.backward()\n",
        "#             optimizer.step()\n",
        "\n",
        "#             # print statistics\n",
        "#             running_loss += loss.item()\n",
        "#             if i % 10 == 9:    # print every 10 mini-batches\n",
        "#                     print('[%d, %5d] loss: %.3f' %\n",
        "#                         (epoch + 1, i + 1, running_loss / 10))\n",
        "#                     running_loss = 0.0\n",
        "\n",
        "#         pointnet.eval()\n",
        "#         correct = total = 0\n",
        "\n",
        "#         # validation\n",
        "#         if val_loader:\n",
        "#             with torch.no_grad():\n",
        "#                 for data in val_loader:\n",
        "#                     inputs, labels = data['image'].to(device), data['category'].to(device)\n",
        "#                     outputs, __, __ = pointnet(inputs.transpose(1,2))\n",
        "#                     _, predicted = torch.max(outputs.data, 1)\n",
        "#                     total += labels.size(0) * labels.size(1) ##\n",
        "#                     correct += (predicted == labels).sum().item()\n",
        "#             val_acc = 100 * correct / total\n",
        "#             print('Valid accuracy: %d %%' % val_acc)\n",
        "\n",
        "#         # save the model\n",
        "#         if save:\n",
        "#             if not os.path.exists(root_dir+\"/modelsSeg_v0/\"):\n",
        "#                 os.mkdir(root_dir+\"/modelsSeg_v0\")\n",
        "#             torch.save(pointnet.state_dict(), root_dir+\"/modelsSeg_v0/\"+str(epoch)+\"_\"+str(val_acc))\n"
      ],
      "execution_count": 20,
      "outputs": []
    },
    {
      "cell_type": "code",
      "metadata": {
        "id": "3jjVYFmSv9lu"
      },
      "source": [
        "# train(pointnet, train_loader, val_loader,  save=True)"
      ],
      "execution_count": 21,
      "outputs": []
    },
    {
      "cell_type": "markdown",
      "metadata": {
        "id": "VeUZqen5GlKr"
      },
      "source": [
        "## test"
      ]
    },
    {
      "cell_type": "markdown",
      "metadata": {
        "id": "mbBNmdqgGj5-"
      },
      "source": []
    },
    {
      "cell_type": "code",
      "metadata": {
        "id": "Xsk9nSDAI3ba",
        "outputId": "5a0461e2-4d64-47fe-8eb6-a144fe9b9373",
        "colab": {
          "base_uri": "https://localhost:8080/"
        }
      },
      "source": [
        "pointnet = PointNetSeg(classes=2)  # For 2 classes\n",
        "# MODEL_PATH = \"/content/gdrive/MyDrive/ColabNotebooks/IECO/PointNet_Classification_Segmentation/pointnet/modelsSeg/14_88.45\"\n",
        "MODEL_PATH = os.path.join(root_dir, \"modelsSeg_v0/14_88.45\")\n",
        "# pointnet.load_state_dict(torch.load(root_dir+\"/modelsSeg/\"+\"14_88.98358208955224\"))\n",
        "pointnet.load_state_dict(torch.load(MODEL_PATH))\n",
        "\n",
        "pointnet.eval()"
      ],
      "execution_count": 22,
      "outputs": [
        {
          "output_type": "stream",
          "name": "stderr",
          "text": [
            "<ipython-input-22-b680cdfd6f5c>:5: FutureWarning: You are using `torch.load` with `weights_only=False` (the current default value), which uses the default pickle module implicitly. It is possible to construct malicious pickle data which will execute arbitrary code during unpickling (See https://github.com/pytorch/pytorch/blob/main/SECURITY.md#untrusted-models for more details). In a future release, the default value for `weights_only` will be flipped to `True`. This limits the functions that could be executed during unpickling. Arbitrary objects will no longer be allowed to be loaded via this mode unless they are explicitly allowlisted by the user via `torch.serialization.add_safe_globals`. We recommend you start setting `weights_only=True` for any use case where you don't have full control of the loaded file. Please open an issue on GitHub for any issues related to this experimental feature.\n",
            "  pointnet.load_state_dict(torch.load(MODEL_PATH))\n"
          ]
        },
        {
          "output_type": "execute_result",
          "data": {
            "text/plain": [
              "PointNetSeg(\n",
              "  (transform): Transform(\n",
              "    (input_transform): Tnet(\n",
              "      (conv1): Conv1d(3, 64, kernel_size=(1,), stride=(1,))\n",
              "      (conv2): Conv1d(64, 128, kernel_size=(1,), stride=(1,))\n",
              "      (conv3): Conv1d(128, 1024, kernel_size=(1,), stride=(1,))\n",
              "      (fc1): Linear(in_features=1024, out_features=512, bias=True)\n",
              "      (fc2): Linear(in_features=512, out_features=256, bias=True)\n",
              "      (fc3): Linear(in_features=256, out_features=9, bias=True)\n",
              "      (bn1): BatchNorm1d(64, eps=1e-05, momentum=0.1, affine=True, track_running_stats=True)\n",
              "      (bn2): BatchNorm1d(128, eps=1e-05, momentum=0.1, affine=True, track_running_stats=True)\n",
              "      (bn3): BatchNorm1d(1024, eps=1e-05, momentum=0.1, affine=True, track_running_stats=True)\n",
              "      (bn4): BatchNorm1d(512, eps=1e-05, momentum=0.1, affine=True, track_running_stats=True)\n",
              "      (bn5): BatchNorm1d(256, eps=1e-05, momentum=0.1, affine=True, track_running_stats=True)\n",
              "    )\n",
              "    (feature_transform): Tnet(\n",
              "      (conv1): Conv1d(128, 64, kernel_size=(1,), stride=(1,))\n",
              "      (conv2): Conv1d(64, 128, kernel_size=(1,), stride=(1,))\n",
              "      (conv3): Conv1d(128, 1024, kernel_size=(1,), stride=(1,))\n",
              "      (fc1): Linear(in_features=1024, out_features=512, bias=True)\n",
              "      (fc2): Linear(in_features=512, out_features=256, bias=True)\n",
              "      (fc3): Linear(in_features=256, out_features=16384, bias=True)\n",
              "      (bn1): BatchNorm1d(64, eps=1e-05, momentum=0.1, affine=True, track_running_stats=True)\n",
              "      (bn2): BatchNorm1d(128, eps=1e-05, momentum=0.1, affine=True, track_running_stats=True)\n",
              "      (bn3): BatchNorm1d(1024, eps=1e-05, momentum=0.1, affine=True, track_running_stats=True)\n",
              "      (bn4): BatchNorm1d(512, eps=1e-05, momentum=0.1, affine=True, track_running_stats=True)\n",
              "      (bn5): BatchNorm1d(256, eps=1e-05, momentum=0.1, affine=True, track_running_stats=True)\n",
              "    )\n",
              "    (fc1): Conv1d(3, 64, kernel_size=(1,), stride=(1,))\n",
              "    (fc2): Conv1d(64, 128, kernel_size=(1,), stride=(1,))\n",
              "    (fc3): Conv1d(128, 128, kernel_size=(1,), stride=(1,))\n",
              "    (fc4): Conv1d(128, 512, kernel_size=(1,), stride=(1,))\n",
              "    (fc5): Conv1d(512, 2048, kernel_size=(1,), stride=(1,))\n",
              "    (bn1): BatchNorm1d(64, eps=1e-05, momentum=0.1, affine=True, track_running_stats=True)\n",
              "    (bn2): BatchNorm1d(128, eps=1e-05, momentum=0.1, affine=True, track_running_stats=True)\n",
              "    (bn3): BatchNorm1d(128, eps=1e-05, momentum=0.1, affine=True, track_running_stats=True)\n",
              "    (bn4): BatchNorm1d(512, eps=1e-05, momentum=0.1, affine=True, track_running_stats=True)\n",
              "    (bn5): BatchNorm1d(2048, eps=1e-05, momentum=0.1, affine=True, track_running_stats=True)\n",
              "  )\n",
              "  (fc1): Conv1d(3008, 256, kernel_size=(1,), stride=(1,))\n",
              "  (fc2): Conv1d(256, 256, kernel_size=(1,), stride=(1,))\n",
              "  (fc3): Conv1d(256, 128, kernel_size=(1,), stride=(1,))\n",
              "  (fc4): Conv1d(128, 2, kernel_size=(1,), stride=(1,))\n",
              "  (bn1): BatchNorm1d(256, eps=1e-05, momentum=0.1, affine=True, track_running_stats=True)\n",
              "  (bn2): BatchNorm1d(256, eps=1e-05, momentum=0.1, affine=True, track_running_stats=True)\n",
              "  (bn3): BatchNorm1d(128, eps=1e-05, momentum=0.1, affine=True, track_running_stats=True)\n",
              "  (bn4): BatchNorm1d(2, eps=1e-05, momentum=0.1, affine=True, track_running_stats=True)\n",
              "  (logsoftmax): LogSoftmax(dim=1)\n",
              ")"
            ]
          },
          "metadata": {},
          "execution_count": 22
        }
      ]
    },
    {
      "cell_type": "code",
      "metadata": {
        "id": "zoE5fRX8GnWR",
        "outputId": "9b754e7b-4445-405e-edc6-47196ea4f149",
        "colab": {
          "base_uri": "https://localhost:8080/"
        }
      },
      "source": [
        "batch = next(iter(val_loader))\n",
        "pred = pointnet(batch['image'].transpose(1,2))\n",
        "pred_np = np.array(torch.argmax(pred[0],1));\n",
        "pred_np"
      ],
      "execution_count": 23,
      "outputs": [
        {
          "output_type": "execute_result",
          "data": {
            "text/plain": [
              "array([[0, 0, 0, ..., 0, 0, 0],\n",
              "       [0, 1, 0, ..., 0, 0, 0],\n",
              "       [0, 0, 0, ..., 0, 1, 0],\n",
              "       ...,\n",
              "       [0, 0, 1, ..., 0, 0, 0],\n",
              "       [1, 0, 0, ..., 0, 1, 0],\n",
              "       [0, 1, 0, ..., 0, 0, 0]])"
            ]
          },
          "metadata": {},
          "execution_count": 23
        }
      ]
    },
    {
      "cell_type": "code",
      "source": [
        "len(batch['image'])"
      ],
      "metadata": {
        "colab": {
          "base_uri": "https://localhost:8080/"
        },
        "id": "wUndsexHcbd1",
        "outputId": "9afbe9ea-dc02-4772-da4d-d092d3be19d9"
      },
      "execution_count": 24,
      "outputs": [
        {
          "output_type": "execute_result",
          "data": {
            "text/plain": [
              "11"
            ]
          },
          "metadata": {},
          "execution_count": 24
        }
      ]
    },
    {
      "cell_type": "code",
      "metadata": {
        "id": "3ISvwR4RL_eT",
        "outputId": "98d7dda8-1907-498a-db1b-c4f4bd24041f",
        "colab": {
          "base_uri": "https://localhost:8080/"
        }
      },
      "source": [
        "batch['image'][-1].shape"
      ],
      "execution_count": 25,
      "outputs": [
        {
          "output_type": "execute_result",
          "data": {
            "text/plain": [
              "torch.Size([2000, 3])"
            ]
          },
          "metadata": {},
          "execution_count": 25
        }
      ]
    },
    {
      "cell_type": "code",
      "source": [
        "batch['image'][-1]"
      ],
      "metadata": {
        "colab": {
          "base_uri": "https://localhost:8080/"
        },
        "id": "e2gcsK1DdHWI",
        "outputId": "a7550e11-dc18-4ab1-9829-1618c29e0999"
      },
      "execution_count": 26,
      "outputs": [
        {
          "output_type": "execute_result",
          "data": {
            "text/plain": [
              "tensor([[-0.5776,  0.6678, -0.0140],\n",
              "        [-0.0317,  0.1609,  0.0669],\n",
              "        [ 0.3663,  0.5228,  0.0155],\n",
              "        ...,\n",
              "        [-0.4952, -0.1351, -0.0574],\n",
              "        [-0.1348,  0.6788, -0.0608],\n",
              "        [-0.1832,  0.3579, -0.0737]])"
            ]
          },
          "metadata": {},
          "execution_count": 26
        }
      ]
    },
    {
      "cell_type": "code",
      "source": [
        "len(batch['category'])"
      ],
      "metadata": {
        "colab": {
          "base_uri": "https://localhost:8080/"
        },
        "id": "3HGQmSOfc2h1",
        "outputId": "c752f7de-5ca4-42d1-d7b6-573ae93ab087"
      },
      "execution_count": 27,
      "outputs": [
        {
          "output_type": "execute_result",
          "data": {
            "text/plain": [
              "11"
            ]
          },
          "metadata": {},
          "execution_count": 27
        }
      ]
    },
    {
      "cell_type": "code",
      "source": [
        "batch['category'][0]"
      ],
      "metadata": {
        "colab": {
          "base_uri": "https://localhost:8080/"
        },
        "id": "RZpmKjy0c454",
        "outputId": "14c57064-b3ac-4475-96f5-816b6b3f7a43"
      },
      "execution_count": 28,
      "outputs": [
        {
          "output_type": "execute_result",
          "data": {
            "text/plain": [
              "tensor([0, 0, 0,  ..., 0, 0, 0])"
            ]
          },
          "metadata": {},
          "execution_count": 28
        }
      ]
    },
    {
      "cell_type": "code",
      "metadata": {
        "id": "MQXXGh3GJSRf",
        "outputId": "1a574d8a-24ad-41e4-ab35-25ddb904f545",
        "colab": {
          "base_uri": "https://localhost:8080/"
        }
      },
      "source": [
        "pred_np==np.array(batch['category'])"
      ],
      "execution_count": 29,
      "outputs": [
        {
          "output_type": "execute_result",
          "data": {
            "text/plain": [
              "array([[ True,  True,  True, ...,  True,  True,  True],\n",
              "       [ True, False,  True, ...,  True,  True,  True],\n",
              "       [ True,  True,  True, ...,  True,  True,  True],\n",
              "       ...,\n",
              "       [ True,  True,  True, ...,  True,  True,  True],\n",
              "       [ True,  True, False, ...,  True,  True,  True],\n",
              "       [ True, False,  True, ...,  True,  True, False]])"
            ]
          },
          "metadata": {},
          "execution_count": 29
        }
      ]
    },
    {
      "cell_type": "code",
      "metadata": {
        "id": "60Mr2Bp7O9xu"
      },
      "source": [
        "acc = (pred_np==np.array(batch['category']))"
      ],
      "execution_count": 30,
      "outputs": []
    },
    {
      "cell_type": "code",
      "metadata": {
        "id": "Jc1jLPj-PBo-"
      },
      "source": [
        "resulting_acc = np.sum(acc, axis=1) / 2000"
      ],
      "execution_count": 31,
      "outputs": []
    },
    {
      "cell_type": "code",
      "metadata": {
        "id": "w8NwSbbz8jQ-",
        "outputId": "8ac266c1-c32c-48e9-ccdf-fa6043d3873c",
        "colab": {
          "base_uri": "https://localhost:8080/"
        }
      },
      "source": [
        "resulting_acc"
      ],
      "execution_count": 32,
      "outputs": [
        {
          "output_type": "execute_result",
          "data": {
            "text/plain": [
              "array([0.936 , 0.886 , 0.854 , 0.877 , 0.7985, 0.924 , 0.8475, 0.9685,\n",
              "       0.894 , 0.888 , 0.7075])"
            ]
          },
          "metadata": {},
          "execution_count": 32
        }
      ]
    },
    {
      "cell_type": "code",
      "metadata": {
        "id": "nnt7vxPHKamU",
        "outputId": "e308a909-45f1-4697-c58c-566c7aa1b835",
        "colab": {
          "base_uri": "https://localhost:8080/"
        }
      },
      "source": [
        "pred_np"
      ],
      "execution_count": 33,
      "outputs": [
        {
          "output_type": "execute_result",
          "data": {
            "text/plain": [
              "array([[0, 0, 0, ..., 0, 0, 0],\n",
              "       [0, 1, 0, ..., 0, 0, 0],\n",
              "       [0, 0, 0, ..., 0, 1, 0],\n",
              "       ...,\n",
              "       [0, 0, 1, ..., 0, 0, 0],\n",
              "       [1, 0, 0, ..., 0, 1, 0],\n",
              "       [0, 1, 0, ..., 0, 0, 0]])"
            ]
          },
          "metadata": {},
          "execution_count": 33
        }
      ]
    },
    {
      "cell_type": "code",
      "metadata": {
        "id": "N9bgpbtnHC2E",
        "outputId": "a4af731a-d5f2-47a6-d0d6-5bdfab0d7cff",
        "colab": {
          "base_uri": "https://localhost:8080/",
          "height": 542
        }
      },
      "source": [
        "i = 0\n",
        "x,y,z=np.array(batch['image'][i]).T\n",
        "# c = np.array(batch['category'][0]).T\n",
        "c = pred_np[i].tolist()\n",
        "\n",
        "fig = go.Figure(data=[go.Scatter3d(x=x, y=y, z=z,\n",
        "                                   mode='markers',\n",
        "                                   marker=dict(\n",
        "        size=30,\n",
        "        color=c,                # set color to an array/list of desired values\n",
        "        colorscale='Viridis',   # choose a colorscale\n",
        "        opacity=1.0\n",
        "    ))])\n",
        "fig.update_traces(marker=dict(size=2,\n",
        "                              line=dict(width=2,\n",
        "                                        color='DarkSlateGrey')),\n",
        "                  selector=dict(mode='markers'))\n",
        "fig.show()"
      ],
      "execution_count": 35,
      "outputs": [
        {
          "output_type": "display_data",
          "data": {
            "text/html": [
              "<html>\n",
              "<head><meta charset=\"utf-8\" /></head>\n",
              "<body>\n",
              "    <div>            <script src=\"https://cdnjs.cloudflare.com/ajax/libs/mathjax/2.7.5/MathJax.js?config=TeX-AMS-MML_SVG\"></script><script type=\"text/javascript\">if (window.MathJax && window.MathJax.Hub && window.MathJax.Hub.Config) {window.MathJax.Hub.Config({SVG: {font: \"STIX-Web\"}});}</script>                <script type=\"text/javascript\">window.PlotlyConfig = {MathJaxConfig: 'local'};</script>\n",
              "        <script charset=\"utf-8\" src=\"https://cdn.plot.ly/plotly-2.35.2.min.js\"></script>                <div id=\"c1361a07-7673-40be-a16e-e9a4c3b477cc\" class=\"plotly-graph-div\" style=\"height:525px; width:100%;\"></div>            <script type=\"text/javascript\">                                    window.PLOTLYENV=window.PLOTLYENV || {};                                    if (document.getElementById(\"c1361a07-7673-40be-a16e-e9a4c3b477cc\")) {                    Plotly.newPlot(                        \"c1361a07-7673-40be-a16e-e9a4c3b477cc\",                        [{\"marker\":{\"color\":[0,0,0,0,0,0,0,0,0,0,0,0,0,0,0,0,0,0,0,0,0,0,0,0,0,0,0,0,0,0,0,0,0,0,0,0,0,0,0,0,0,0,0,0,0,0,0,0,0,0,0,0,0,0,0,0,0,0,0,0,0,0,0,0,0,0,0,0,0,0,0,0,0,0,0,0,0,0,0,0,0,0,0,0,0,0,0,0,0,0,0,0,0,0,0,0,0,0,0,0,0,0,1,0,0,0,0,0,0,0,0,0,0,0,0,0,0,0,0,0,0,0,0,0,0,0,0,0,0,0,0,0,0,0,0,0,0,0,0,0,0,0,0,0,0,0,0,0,0,0,0,0,0,0,0,0,0,0,0,0,0,0,0,0,0,0,0,0,0,0,0,0,0,0,0,0,0,0,0,0,0,0,0,0,1,0,0,0,0,0,0,0,0,0,0,0,0,0,0,0,0,0,0,0,0,0,0,0,0,0,0,0,0,0,0,0,0,0,0,0,0,0,0,0,0,0,0,0,0,0,0,0,0,0,0,0,0,0,0,0,0,0,0,0,0,0,0,0,0,0,0,0,0,0,0,0,0,0,0,0,0,0,0,0,0,0,0,0,0,0,0,0,0,0,0,0,0,1,0,0,0,0,0,0,0,0,0,0,0,0,0,0,0,0,0,0,0,0,0,0,0,0,0,0,0,0,0,0,0,0,0,0,0,0,0,0,0,0,0,0,0,0,0,0,0,0,0,0,0,0,0,0,0,0,0,0,0,0,0,0,0,0,0,0,0,0,0,0,0,0,0,0,0,0,0,0,1,0,0,0,0,0,0,0,0,0,0,1,0,0,0,0,0,0,0,0,0,0,0,0,0,0,0,0,0,0,0,0,0,0,0,0,0,0,0,0,1,0,0,0,0,0,0,0,1,0,0,0,0,0,0,0,0,0,0,0,0,0,0,0,0,0,0,0,1,0,0,0,0,0,0,0,0,0,0,0,0,0,0,0,0,0,0,0,0,0,0,0,0,0,0,0,0,1,0,0,0,0,0,0,0,0,0,0,0,0,0,0,0,0,0,0,0,0,0,0,0,0,0,1,0,0,0,0,0,0,0,0,0,0,0,0,0,0,0,0,0,0,0,0,0,0,0,0,0,0,0,0,0,0,0,0,1,0,0,0,0,0,0,0,0,0,0,0,0,0,0,0,0,1,0,0,0,0,0,0,0,0,0,0,0,0,0,0,0,0,0,0,0,0,0,0,0,0,0,0,0,0,0,0,0,0,0,0,0,0,0,0,0,0,0,0,0,0,0,0,0,0,0,0,0,0,0,0,0,0,0,0,0,0,1,0,0,0,0,0,0,0,0,0,0,0,0,0,0,0,0,1,0,0,0,0,0,0,0,0,0,0,0,0,0,0,0,0,0,0,0,0,0,0,1,0,0,0,0,0,0,0,0,0,0,0,0,0,0,0,0,0,0,0,0,0,0,0,0,0,0,0,0,0,0,0,0,0,0,0,0,0,0,0,0,0,0,0,0,0,0,0,0,0,0,0,0,0,0,0,0,0,0,0,0,0,0,0,0,0,0,0,0,0,0,0,0,0,0,0,0,0,0,0,0,0,0,0,0,0,0,0,0,0,0,0,0,0,0,0,0,0,0,0,0,0,0,0,0,0,0,0,0,0,0,0,0,0,0,0,0,0,0,1,0,0,0,0,0,0,0,0,0,0,0,0,0,0,0,0,0,0,0,0,0,0,0,0,0,0,0,0,0,0,1,0,0,0,0,0,0,0,0,0,0,0,0,0,0,1,0,0,0,0,0,0,0,0,0,0,0,0,0,0,0,0,0,0,0,0,0,0,0,0,0,0,0,0,0,0,0,0,1,0,0,0,0,0,0,0,0,0,0,0,0,0,0,0,0,0,0,0,0,0,0,0,0,0,0,0,0,0,0,0,0,0,0,0,0,0,0,0,0,0,0,0,0,0,0,0,0,0,0,0,0,0,0,0,0,0,0,0,0,0,0,0,0,0,0,0,0,0,0,0,0,0,0,0,0,0,0,0,0,0,0,0,0,0,0,0,0,0,0,0,0,0,0,0,0,0,0,0,0,0,0,0,0,0,0,0,0,1,0,0,0,0,1,0,1,0,0,0,0,0,0,0,0,0,0,0,0,0,0,0,0,0,0,0,0,0,0,0,0,0,0,0,0,0,0,0,0,0,0,0,0,0,0,0,0,0,0,0,0,0,0,0,0,0,0,0,0,0,0,0,0,0,0,0,0,0,0,0,0,0,0,0,0,0,0,0,0,0,0,0,0,0,0,0,0,0,0,0,0,0,0,0,0,0,0,0,0,0,1,0,0,0,0,0,0,0,0,0,0,0,0,0,0,0,0,0,0,0,0,0,0,0,1,0,0,0,0,0,0,0,0,0,0,0,0,0,0,0,0,0,0,0,0,0,0,0,0,0,0,0,0,0,0,0,0,0,0,0,0,0,0,0,0,0,0,0,0,0,0,0,0,0,0,0,0,0,0,0,0,0,0,0,0,0,0,0,0,0,0,0,0,0,0,0,0,0,0,0,0,0,0,0,0,0,0,0,0,1,0,0,0,0,0,0,0,0,0,0,0,0,0,0,0,0,0,0,0,0,0,0,0,0,0,1,0,0,0,0,0,0,0,0,0,0,0,0,0,0,0,0,0,0,0,0,0,0,0,0,0,0,0,0,0,0,0,0,0,0,0,0,0,0,0,0,0,0,0,0,0,0,0,0,0,0,0,0,0,0,0,0,0,0,0,0,0,0,0,0,0,0,0,0,0,0,0,0,0,0,0,0,0,0,0,0,0,0,0,0,0,0,0,0,0,0,0,1,0,0,0,0,0,0,0,0,0,0,0,0,0,1,0,0,0,0,0,0,0,0,0,0,0,0,0,0,0,0,0,0,0,0,0,0,0,0,0,0,0,0,0,0,0,0,0,0,0,0,0,0,0,0,0,0,0,0,0,0,0,0,0,0,0,0,0,0,0,0,0,0,0,0,0,0,0,0,0,0,0,0,0,1,0,0,0,0,0,0,0,0,0,0,0,0,0,0,0,0,0,0,0,0,0,0,0,0,0,0,0,0,0,0,0,0,0,0,0,0,0,0,0,0,0,0,0,0,0,0,0,0,0,0,0,0,0,0,0,0,0,0,0,0,0,0,0,0,0,0,0,0,0,0,0,0,0,0,0,0,0,0,0,0,0,0,0,0,0,0,0,0,0,0,0,0,0,0,0,0,0,0,0,0,0,1,0,0,0,0,0,0,0,0,0,0,0,0,0,0,0,0,0,0,0,0,0,0,0,0,0,0,0,0,0,0,0,0,0,0,0,0,0,0,0,0,0,0,0,0,0,0,0,0,0,0,0,0,0,0,0,0,1,0,0,0,0,0,0,0,0,0,0,0,0,0,0,0,0,0,0,0,1,0,0,0,0,0,0,0,0,0,0,0,0,0,0,0,0,0,0,0,0,0,0,0,0,0,0,0,0,0,0,0,0,0,0,0,0,0,0,0,0,0,0,0,0,0,0,0,0,0,0,0,0,0,0,0,0,0,0,0,0,0,0,0,0,0,0,0,0,0,0,0,0,0,0,0,0,0,0,0,0,0,0,0,0,0,0,0,0,0,0,0,0,0,0,0,0,0,0,0,0,0,0,0,0,0,0,0,0,0,0,0,0,0,0,0,0,0,0,0,0,0,0,0,0,0,0,0,0,0,0,0,0,0,0,0,0,0,0,0,0,0,0,0,0,0,0,0,0,0,0,0,0,0,0,0,0,0,0,0,0,0,0,0,0,0,0,0,0,0,0,0,0,0,0,0,0,0,0,0,1,0,0,1,0,0,0,0,0,0,0,0,0,0,0,0,0,0,0,0,0,0,0,0,1,0,0,0,1,0,0,0,0,0,0,0,0,0,0,0,0,0,0,1,0,0,0,0,0,0,0,0,0,0,0,0,0,0,0,0,0,0,0,0,0,1,0,0,0,0,0,0,0,0,0,0,0,0,0,0,0,0,0,0,0,0,0,0,0,0,0,0,0,0,0,0,0,0,0,0,0,0,0,0,0,0,0,0,0,0,0,0,0,0,0,0,0,0,0,0,0,0,0,0,0,0,0,0,0,0,0,0,0,0,0,0,1,0,0,0,0,0,0,0,0,0,0,0,0,0,0,0,0,0,0,0,0,0,0,0,0,0,0,0,0,0,0,0,0,0,0,0,0,0,0,0,0,0,0,0,0,0,0,0,0,0,0,0,0,0,0,0,0,0,0,0,0,0,0,0,0,0,0,0,0,0,0,0,0,0,0,0,0,0,0,0,0,0,0,0,0,0,0,0,0,0,0,0,1,0,0,0,0,0,0,0,0,0,0,0,0,0,0,0,0,0,0,0,0,0,0,0,0,0,0,0,0,0,0,0,0,0,0,0,0,0,0,0,0,0,0,0,0,0,0,0,0,0,0,0,0,0,0,0,1,0,0,0,0,0,0,0],\"colorscale\":[[0.0,\"#440154\"],[0.1111111111111111,\"#482878\"],[0.2222222222222222,\"#3e4989\"],[0.3333333333333333,\"#31688e\"],[0.4444444444444444,\"#26828e\"],[0.5555555555555556,\"#1f9e89\"],[0.6666666666666666,\"#35b779\"],[0.7777777777777778,\"#6ece58\"],[0.8888888888888888,\"#b5de2b\"],[1.0,\"#fde725\"]],\"opacity\":1.0,\"size\":2,\"line\":{\"color\":\"DarkSlateGrey\",\"width\":2}},\"mode\":\"markers\",\"x\":[-0.6546942591667175,0.5960059762001038,-0.6504780054092407,-0.48766863346099854,0.27137744426727295,0.5490337610244751,-0.5832821726799011,0.3247188627719879,0.08430381864309311,-0.32642456889152527,-0.09139149636030197,-0.4095291793346405,0.14065533876419067,0.1361178159713745,-0.5378174185752869,-0.1952824890613556,0.6802815794944763,-0.647057294845581,-0.7649245858192444,0.6412935256958008,-0.3706102967262268,0.46752992272377014,0.6146300435066223,0.47961896657943726,0.6757872104644775,0.4917081892490387,0.4705180823802948,-0.05111612007021904,0.10170836746692657,-0.24500007927417755,-0.4653424024581909,-0.16308487951755524,-0.40105655789375305,-0.11518573760986328,0.1335856318473816,-0.42715099453926086,-0.49082282185554504,0.07337406277656555,0.24356231093406677,-0.35330405831336975,0.5407924056053162,-0.5145308971405029,-0.6099515557289124,-0.1845477670431137,-0.6858575940132141,-0.7718384265899658,0.10689975321292877,0.11531440168619156,-0.02717435546219349,0.18281050026416779,0.009691865183413029,0.1311546117067337,-0.32068201899528503,-0.3624885082244873,-0.3466860055923462,0.5177492499351501,0.11512880772352219,-0.05293751507997513,-0.2615979015827179,0.013501610606908798,0.08003044128417969,-0.26638153195381165,0.06587335467338562,-0.12200326472520828,0.6109534502029419,-0.14772768318653107,-0.32535359263420105,-0.2567407488822937,-0.3454119861125946,-0.7629662752151489,-0.37867286801338196,0.0031903483904898167,-0.5543292164802551,0.33941835165023804,0.7982471585273743,-0.5593037009239197,0.027401786297559738,0.754019558429718,-0.5842862725257874,-0.6400346159934998,0.1729680746793747,-0.4544905126094818,-0.2795831859111786,-0.5921836495399475,0.07375026494264603,0.16976235806941986,-0.02951343171298504,0.58962082862854,0.0030226344242691994,0.19857004284858704,-0.41944244503974915,-0.41363877058029175,-0.6703929305076599,0.6579509377479553,-0.2981635630130768,-0.1305997371673584,0.3667682707309723,0.24280156195163727,-0.3831733167171478,-0.15803050994873047,0.21943466365337372,-0.4907256066799164,0.05193518474698067,0.01958402991294861,-0.7566997408866882,-0.7423839569091797,0.7504874467849731,0.5852417945861816,-0.3171275854110718,0.19490016996860504,-0.2272377610206604,-0.31885194778442383,0.27718040347099304,0.1737857162952423,-0.48595815896987915,-0.33977842330932617,0.0032206245232373476,0.1579117625951767,-0.7248173952102661,-0.034113068133592606,0.506282389163971,-0.5008138418197632,0.4577019214630127,0.5081359148025513,0.5883312821388245,-0.2967948913574219,-0.46789976954460144,0.6917434930801392,-0.46862900257110596,0.6936662197113037,-0.2822208106517792,0.40248823165893555,-0.12202593684196472,-0.5470572710037231,-0.7628040909767151,0.5433346033096313,0.31833186745643616,0.5607000589370728,-0.7337984442710876,-0.5144633054733276,-0.5146785378456116,0.08370267599821091,0.46192261576652527,0.27378541231155396,-0.5534286499023438,0.5027520060539246,-0.5332432985305786,0.21928028762340546,-0.02304341271519661,0.3015228807926178,-0.3909180164337158,0.07623877376317978,-0.34672561287879944,-0.1467331349849701,0.2771301567554474,0.05044207721948624,-0.579196572303772,0.22426944971084595,0.7071788907051086,0.5781149864196777,-0.3914855718612671,0.14481300115585327,0.6762294769287109,0.3543369174003601,-0.41308924555778503,0.2747702896595001,-0.548811137676239,-0.4983113706111908,-0.542750895023346,0.5683109760284424,-0.39724767208099365,-0.04363745078444481,0.3911115229129791,-0.6530911326408386,-0.038540542125701904,-0.3954353332519531,-0.5439310669898987,-0.6526750922203064,0.36896371841430664,0.177131786942482,-0.23297081887722015,0.47159308195114136,-0.026536989957094193,-0.38792717456817627,-0.05722295120358467,-0.566827118396759,-0.175541490316391,0.05303264036774635,0.26049116253852844,0.458457350730896,0.015004315413534641,0.5700668692588806,0.21074655652046204,-0.14912109076976776,0.1915549486875534,0.6802613139152527,-0.06091771647334099,-0.2567318081855774,0.498009592294693,0.4798022210597992,0.1571364402770996,-0.6815158724784851,0.028996635228395462,-0.1436435580253601,-0.5656585097312927,-0.3157602548599243,-0.19513732194900513,0.46695956587791443,-0.27945414185523987,-0.09296375513076782,-0.4011314809322357,-0.4016943573951721,0.11351403594017029,-0.3576662242412567,-0.08408632129430771,0.3563613295555115,0.034152861684560776,0.14039552211761475,-0.34895631670951843,-0.3503619134426117,0.5507521033287048,-0.46298718452453613,0.4971161484718323,-0.005796046927571297,0.26157698035240173,-0.1353621631860733,0.3716733753681183,0.5201795101165771,-0.37637174129486084,-0.6506105661392212,-0.4035842716693878,-0.6581049561500549,0.05619103088974953,-0.4569787383079529,0.13149268925189972,0.5846742987632751,0.10534662008285522,0.4544353783130646,0.05084158480167389,0.28660112619400024,-0.39227765798568726,-0.351528137922287,-0.24769707024097443,-0.44630107283592224,0.1088002473115921,0.11289600282907486,0.4084821045398712,-0.13050639629364014,-0.2499995082616806,-0.19946493208408356,0.7139353156089783,-0.5267046093940735,0.11012999713420868,0.726758599281311,-0.2880566120147705,-0.1729096621274948,0.3544110357761383,-0.5190617442131042,-0.016200989484786987,0.029613159596920013,0.5313518643379211,0.5858559608459473,0.1562987118959427,-0.39270341396331787,0.16314294934272766,0.7273749113082886,-0.4024417996406555,-0.3905182182788849,0.2499169111251831,-0.2743438482284546,-0.31117475032806396,0.1635250747203827,0.6256822347640991,-0.4607939124107361,0.6694740056991577,-0.3282202184200287,0.15935850143432617,-0.07185062021017075,-0.4509861171245575,0.05885504186153412,-0.017493093386292458,-0.4194684624671936,-0.05967916548252106,0.5798028707504272,-0.5902759432792664,-0.3866405487060547,0.1421056091785431,0.6701710224151611,0.20073360204696655,-0.19188585877418518,-0.27791908383369446,0.03162670508027077,-0.6567502617835999,0.10647144913673401,0.47207584977149963,0.554174542427063,0.41125014424324036,0.0611748993396759,0.11976878345012665,0.5578963756561279,-0.5134789347648621,0.41582807898521423,-0.8033944368362427,0.35539501905441284,-0.178999662399292,-0.09579110145568848,-0.6387838125228882,-0.013652144931256771,-0.589605987071991,0.6335299611091614,0.05253349989652634,0.34389153122901917,-0.31994664669036865,0.5450812578201294,0.2911756932735443,-0.6274913549423218,-0.3761799931526184,-0.03596103936433792,-0.28380194306373596,0.23354756832122803,-0.4129030406475067,-0.6970161199569702,-0.2881517708301544,0.3533586263656616,0.21709483861923218,-0.07047303020954132,0.43801262974739075,-0.28489360213279724,-0.32370227575302124,0.5872700810432434,-0.40989622473716736,0.5789074897766113,0.28216683864593506,-0.39290913939476013,0.5212134122848511,0.4407096207141876,0.46280279755592346,-0.29605939984321594,0.44098034501075745,0.35305845737457275,0.3072584569454193,-0.22234387695789337,0.37474459409713745,0.08315260708332062,0.5497797727584839,-0.7518017888069153,0.21729646623134613,-0.36736950278282166,-0.2790452539920807,0.0477217361330986,0.10210671275854111,0.019392244517803192,0.45829299092292786,-0.8368521332740784,0.540783166885376,0.11034636199474335,-0.06539604812860489,-0.5480262041091919,-0.03234885260462761,-0.6541113257408142,-0.6528171300888062,0.43592217564582825,-0.3572714626789093,-0.22926606237888336,0.15802831947803497,0.4911036789417267,0.20360203087329865,0.06586696952581406,0.27664220333099365,-0.15213865041732788,-0.48292794823646545,0.08636392652988434,0.10030072182416916,-0.722327470779419,-0.5578039884567261,0.5985598564147949,-0.4953020215034485,0.12184187769889832,0.09829675406217575,0.5312449932098389,0.4447741210460663,0.7595134973526001,0.29898637533187866,-0.6897309422492981,-0.3088603615760803,0.5203859806060791,0.03130651265382767,0.23509086668491364,0.2878945767879486,0.359024316072464,0.0048719653859734535,0.5841113328933716,0.09667810052633286,0.3225007951259613,0.539893627166748,-0.5672965049743652,-0.05903594568371773,-0.30902913212776184,-0.15413649380207062,-0.28935322165489197,0.40912380814552307,0.13050179183483124,-0.40430566668510437,-0.31996968388557434,0.056318409740924835,0.40213096141815186,0.4246459901332855,-0.40039366483688354,-0.48044830560684204,-0.4518055319786072,0.6698254346847534,-0.06913947314023972,-0.23003552854061127,-0.5727818012237549,0.7757149934768677,-0.44910991191864014,0.27475467324256897,-0.6451606750488281,-0.3355920910835266,0.6561194062232971,-0.32634979486465454,-0.15359550714492798,0.4062020182609558,-0.40941017866134644,0.008053440600633621,0.3514869511127472,-0.07338953018188477,0.45156827569007874,0.30128124356269836,-0.37157121300697327,-0.5084866881370544,-0.1504177302122116,-0.3359534442424774,0.11264684796333313,-0.13547566533088684,-0.3910653591156006,-0.7503802180290222,0.5540179014205933,0.24120615422725677,0.5903258919715881,0.6605038642883301,-0.17415811121463776,0.22368574142456055,-0.38711246848106384,-0.3936057686805725,0.36992451548576355,0.5215221643447876,0.6049008965492249,0.3535483479499817,-0.2171267867088318,-0.13859596848487854,-0.2409658432006836,0.027236955240368843,0.02231263741850853,0.09176955372095108,-0.2976642847061157,0.2897581458091736,0.6066448092460632,0.42880547046661377,0.27306538820266724,0.41641631722450256,-0.6018337607383728,0.10441027581691742,-0.12662050127983093,0.8049814701080322,0.05205080658197403,-0.18621717393398285,-0.6471211910247803,0.5115771889686584,-0.5386220216751099,0.8346756100654602,0.593564510345459,0.2806650996208191,-0.1730540245771408,0.42907261848449707,0.3813115954399109,-0.7806739211082458,0.009296998381614685,0.05082336813211441,-0.016033755615353584,-0.2827339768409729,-0.42238205671310425,0.028773410245776176,-0.10682239383459091,-0.02450319565832615,0.41998493671417236,0.20141099393367767,-0.11500617116689682,0.09487415105104446,-0.717490017414093,0.11981760710477829,0.2743176817893982,0.07976669073104858,0.42602798342704773,0.5938489437103271,-0.6819372773170471,0.6760140657424927,0.3437000513076782,-0.028760073706507683,0.01758940890431404,-0.39484676718711853,-0.40092819929122925,-0.1049576997756958,-0.24822545051574707,0.40329620242118835,0.5647295713424683,-0.5874110460281372,0.032137755304574966,-0.38991615176200867,-0.6036951541900635,-0.5906549096107483,0.3025914430618286,0.015222255140542984,0.15150336921215057,-0.036169104278087616,-0.5522483587265015,0.5622227191925049,-0.3015832006931305,0.329445481300354,-0.45572853088378906,-0.3571802079677582,0.0877910852432251,-0.6679698824882507,0.09721642732620239,0.2913975119590759,0.6555889844894409,0.7133125066757202,0.6325032711029053,0.019207457080483437,0.016543477773666382,0.5486068725585938,-0.11462478339672089,0.388302206993103,-0.27890026569366455,0.5295406579971313,0.03920016810297966,-0.6337621808052063,-0.27888256311416626,-0.20301906764507294,0.5623555779457092,-0.1032135859131813,0.11354569345712662,-0.08373063057661057,0.505435049533844,0.03122180700302124,0.22937828302383423,0.08467868715524673,0.2302885800600052,-0.24998889863491058,0.18864484131336212,-0.39584270119667053,0.16838201880455017,-0.10889795422554016,0.11184295266866684,-0.14912645518779755,-0.38770371675491333,0.33206790685653687,0.09361010789871216,-0.17369520664215088,-0.2977431118488312,-0.34720882773399353,0.5960996747016907,-0.07072116434574127,-0.12974266707897186,0.14920087158679962,-0.45370468497276306,0.22726620733737946,0.5489347577095032,0.4247283637523651,-0.40966784954071045,-0.3139607608318329,0.31811997294425964,0.3930127024650574,-0.2521153688430786,0.8076373338699341,-0.37000006437301636,0.45163920521736145,-0.17108260095119476,0.3661629557609558,0.39725425839424133,-0.6552473902702332,-0.045637864619493484,-0.14115865528583527,0.34482577443122864,0.40742287039756775,0.4408596158027649,-0.1897139549255371,0.3462620973587036,0.456429123878479,0.2093193233013153,0.030630849301815033,0.5348179936408997,-0.6287384629249573,0.3329222798347473,-0.6404609680175781,0.2636638581752777,0.4123370051383972,0.35240259766578674,-0.0020412744488567114,-0.39717233180999756,-0.42018643021583557,0.6843171119689941,0.4168790280818939,0.1059039831161499,0.36259087920188904,-0.49721458554267883,0.10465344041585922,-0.10408933460712433,-0.33847346901893616,-0.3824687898159027,0.5105951428413391,-0.3232247531414032,-0.0011002466781064868,0.05885063856840134,0.5860594511032104,0.44709905982017517,0.3942711651325226,-0.5377957820892334,0.2323930263519287,-0.7571072578430176,0.5001935958862305,0.42423227429389954,-0.16829457879066467,0.3720719516277313,0.36714446544647217,-0.14920929074287415,-0.29828473925590515,0.6697981953620911,0.27690088748931885,0.12692631781101227,-0.05789834260940552,-0.08435863256454468,-0.07677827775478363,-0.45565110445022583,-0.4706932008266449,0.47706735134124756,0.5946635603904724,-0.6548542976379395,0.030066760256886482,0.06769952178001404,0.18381808698177338,-0.5670124888420105,-0.028292864561080933,0.17704957723617554,0.21633948385715485,-0.5989525318145752,0.09196343272924423,0.6603626012802124,-0.024184055626392365,0.22789688408374786,0.08291851729154587,0.5723112225532532,-0.16814255714416504,-0.1889241486787796,0.23488163948059082,0.3408743143081665,0.022253120318055153,-0.2247878611087799,-0.19392462074756622,0.01051674596965313,0.5220854878425598,-0.3979422450065613,-0.5093059539794922,0.720054030418396,-0.017378805205225945,0.10824418067932129,-0.5873571038246155,-0.4222240746021271,-0.25532326102256775,-0.15529920160770416,-0.2242169827222824,0.71751469373703,0.08935441076755524,0.38678795099258423,0.5808790922164917,-0.07310301065444946,-0.5541797876358032,0.1912117451429367,-0.7300609350204468,0.5122122764587402,-0.41090303659439087,0.4335833489894867,0.018635055050253868,-0.10350329428911209,0.40924403071403503,0.1516771763563156,-0.20535320043563843,0.691116213798523,0.3942056894302368,0.22151648998260498,0.47636932134628296,0.292336106300354,-0.40512147545814514,-0.251088947057724,0.4637365937232971,0.05765058845281601,0.27530068159103394,0.5810987949371338,0.5985631942749023,-0.29403167963027954,-0.26145249605178833,-0.6552525162696838,0.07952196151018143,-0.5573438405990601,-0.46424511075019836,0.20546600222587585,-0.2993297278881073,0.10295611619949341,0.5484033823013306,-0.14929810166358948,-0.30904677510261536,-0.39254575967788696,-0.12736254930496216,-0.42292267084121704,-0.26212430000305176,-0.6843397617340088,0.11997717618942261,-0.3851916790008545,-0.00833505392074585,-0.09329743683338165,-0.04775300621986389,0.4181768298149109,0.5364298820495605,-0.477326363325119,-0.4559488594532013,0.015107598155736923,0.42981526255607605,-0.2694074213504791,-0.22652336955070496,0.7256191968917847,-0.3408370912075043,-0.4794600009918213,0.6332523822784424,0.6078409552574158,0.4308087229728699,0.5990279316902161,0.5979753732681274,-0.6397049427032471,-0.395903617143631,-0.1694307029247284,0.07776425778865814,0.23667018115520477,0.3478580415248871,0.2448066622018814,0.6060383319854736,0.11184413731098175,-0.46579450368881226,0.3682982623577118,-0.04050055518746376,-0.13456475734710693,0.41130492091178894,-0.28709903359413147,0.3540060818195343,-0.6603156328201294,0.2442275583744049,0.5956286787986755,-0.25442129373550415,-0.05204649642109871,0.35369011759757996,-0.4293743371963501,-0.5850334763526917,0.3966349959373474,-0.5922190546989441,0.09473838657140732,-0.05321592465043068,0.12906935811042786,0.1419277936220169,-0.15906304121017456,0.24724207818508148,0.2451770156621933,-0.02608969807624817,0.599449872970581,0.6999086737632751,-0.003748613875359297,-0.6089106798171997,0.615973711013794,0.49931567907333374,-0.28627046942710876,-0.6642040014266968,-0.41458606719970703,0.01465729158371687,0.6401282548904419,0.21427802741527557,-0.4871920347213745,-0.2766287922859192,-0.5493993759155273,0.10444285720586777,0.5071414113044739,0.49027520418167114,-0.5628347992897034,0.07453402876853943,0.31092265248298645,0.36008545756340027,0.2294004261493683,0.11328642815351486,0.005535833537578583,-0.5158767104148865,-0.2750419080257416,0.1042347326874733,0.11195079982280731,0.10503622144460678,-0.529848575592041,0.10627336800098419,-0.03446779400110245,0.5122545957565308,0.07473226636648178,0.5650197863578796,0.3073618710041046,-0.2583795487880707,-0.317115843296051,-0.38336241245269775,0.15321165323257446,-0.5613366961479187,0.5372812151908875,-0.5834224224090576,0.4207802712917328,-0.5626904964447021,-0.18143758177757263,0.13359279930591583,-0.3429070711135864,0.20375396311283112,-0.3495016396045685,-0.6526352763175964,0.6008074283599854,-0.6322251558303833,0.0977667048573494,-0.18249741196632385,0.2855726182460785,-0.04846727475523949,-0.7344483137130737,0.42347750067710876,-0.41594305634498596,-0.20538665354251862,-0.7510545253753662,-0.4605066478252411,-0.38731202483177185,0.32971975207328796,-0.6700732707977295,0.4695163071155548,-0.24069149792194366,-0.1030678004026413,0.7456541061401367,-0.3032427430152893,-0.23883458971977234,0.029188456013798714,0.6868856549263,-0.43641480803489685,-0.34822672605514526,0.14323385059833527,-0.5504355430603027,0.5867693424224854,-0.3955834209918976,-0.5860304236412048,0.3949957489967346,-0.14257138967514038,-0.4948069453239441,0.1699914187192917,-0.04454241693019867,0.5875850915908813,-0.6554591059684753,-0.4242406189441681,0.07862391322851181,-0.35340431332588196,0.08170443028211594,0.5492184162139893,0.4109778106212616,0.4168146848678589,0.3219015598297119,0.14612813293933868,-0.5094872117042542,0.7169190049171448,0.05954279750585556,0.4102383852005005,-0.6611957550048828,0.14018119871616364,-0.16587422788143158,0.11282481998205185,0.5158148407936096,0.20380932092666626,0.1339932382106781,-0.2797042727470398,-0.7916620969772339,0.04951903223991394,0.11891678720712662,0.418626993894577,-0.2786751389503479,-0.05683522671461105,0.43619486689567566,0.5656929016113281,0.15546047687530518,0.23718202114105225,-0.6424334645271301,-0.37289223074913025,0.25232836604118347,-0.2988283932209015,-0.4841032028198242,-0.4646909832954407,0.38625743985176086,-0.7144279479980469,0.5888617038726807,0.13772179186344147,0.39044564962387085,0.4057978689670563,-0.6615657210350037,-0.3271729052066803,-0.24376268684864044,0.014126728288829327,0.0036611403338611126,0.07168157398700714,-0.35946786403656006,0.37450823187828064,0.3437766432762146,0.4305042624473572,0.7451091408729553,0.43486863374710083,0.333886981010437,-0.42742928862571716,-0.010532477870583534,-0.7599002718925476,0.28964003920555115,-0.2563302218914032,-0.3376167118549347,0.17307788133621216,0.05218832567334175,0.07302188873291016,-0.10214736312627792,-0.38715308904647827,0.39219895005226135,0.40590527653694153,-0.40934091806411743,0.10028546303510666,-0.36441951990127563,-0.3781898617744446,0.5772070288658142,-0.29305681586265564,0.3751705288887024,0.5508524775505066,-0.08535242825746536,0.2711127698421478,-0.030943933874368668,0.5904905200004578,-0.6725898385047913,-0.13181127607822418,0.47596287727355957,-0.05794888734817505,0.25366491079330444,0.3426162898540497,-0.4334448277950287,0.13537859916687012,-0.4350385069847107,0.01684464141726494,-0.20534004271030426,-0.31791219115257263,-0.40041041374206543,0.07596198469400406,0.016870291903614998,0.16387395560741425,-0.029203834012150764,-0.570242166519165,0.58888840675354,-0.022054053843021393,-0.3705117404460907,-0.11239128559827805,0.1048882007598877,0.12376080453395844,0.3514496684074402,-0.18954046070575714,0.6391932368278503,0.5929273366928101,0.21521499752998352,-0.6516748070716858,-0.3156442940235138,0.21450330317020416,-0.24399396777153015,-0.3240630030632019,-0.2575134038925171,-0.07598890364170074,-0.27940142154693604,0.3975047767162323,-0.04112875089049339,0.4946858584880829,0.07220582664012909,0.2624880373477936,0.09856340289115906,-0.6340993046760559,0.08852005004882812,-0.29167595505714417,0.06821463257074356,0.30010664463043213,0.27341291308403015,-0.043816450983285904,-0.5498021841049194,0.4151236414909363,-0.6681584715843201,-0.015268058516085148,-0.4757588803768158,0.3397822678089142,0.4386860132217407,-0.38767823576927185,0.4331086575984955,0.053026311099529266,-0.6660361886024475,0.5522026419639587,0.05076173320412636,0.260955810546875,0.12346836924552917,0.5238050222396851,0.14388909935951233,0.3922622501850128,0.24760983884334564,0.20435485243797302,0.5934044718742371,0.1661323457956314,-0.19055423140525818,-0.7304549217224121,-0.39099621772766113,0.5528619289398193,0.12451104074716568,0.5757781863212585,0.010232828557491302,-0.6874839663505554,0.1005740612745285,0.042932119220495224,-0.4193461835384369,-0.36047840118408203,-0.39425748586654663,-0.003642081283032894,0.08301860839128494,0.09339264780282974,-0.3434305191040039,-0.07437659054994583,0.47887638211250305,0.6010796427726746,0.27058446407318115,-0.4937068819999695,-0.13874025642871857,0.32294097542762756,0.41689398884773254,-0.08649581670761108,-0.3376742899417877,-0.24059222638607025,-0.5605332851409912,-0.06224735081195831,-0.49834612011909485,0.08377441763877869,0.3634996712207794,-0.6132568717002869,0.2696795165538788,-0.46636518836021423,0.5814992785453796,0.5982551574707031,-0.5296152234077454,-0.0825674831867218,-0.4883002042770386,-0.12687496840953827,-0.3106674253940582,-0.35774633288383484,0.4776482582092285,-0.12992730736732483,-0.6833637952804565,0.08858748525381088,-0.256696492433548,-0.06242992728948593,-0.6991337537765503,-0.16720369458198547,-0.11793225258588791,-0.5168716311454773,-0.6515116691589355,0.3350219130516052,0.25341594219207764,0.5330918431282043,0.12302998453378677,-0.262528657913208,-0.3833469748497009,-0.05107124149799347,0.5581395626068115,0.2579694390296936,0.3485531508922577,0.11131435632705688,0.4380970597267151,0.5463418364524841,0.6842057108879089,-0.13363435864448547,0.4254162311553955,0.3154451847076416,0.5617139935493469,-0.2653137445449829,0.2856005132198334,0.3158354163169861,-0.3592733144760132,-0.3352639675140381,0.09621530026197433,0.5748900771141052,0.5355909466743469,0.15947526693344116,0.5512332320213318,-0.5931230783462524,-0.4264304041862488,-0.4623965919017792,0.036063726991415024,-0.3588069677352905,-0.3433671295642853,0.5854774713516235,-0.2944370210170746,-0.2888000011444092,-0.37930387258529663,0.5774684548377991,-0.36603158712387085,-0.11272856593132019,0.5126157402992249,0.7032608985900879,0.5986459255218506,0.5162380337715149,0.7158817052841187,0.3099149465560913,-0.20160888135433197,0.10367021709680557,-0.543775737285614,0.5763545036315918,0.6941852569580078,-0.7049559950828552,-0.689774751663208,-0.6374616026878357,0.7527835965156555,-0.14610090851783752,-0.6940507292747498,0.1413557380437851,0.6974541544914246,0.2764911949634552,-0.15743733942508698,0.060981400310993195,0.10311883687973022,-0.6147068738937378,0.22360612452030182,0.5357553958892822,0.16885395348072052,-0.04217350482940674,0.27647823095321655,0.4989601969718933,-0.27887389063835144,-0.1809907853603363,0.10426343977451324,0.41671037673950195,-0.04908183217048645,-0.09768398106098175,-0.5534046292304993,-0.0804288312792778,0.008774095214903355,-0.4114934206008911,0.5885218381881714,0.19880180060863495,0.18501438200473785,0.11522931605577469,0.6905111074447632,-0.37903591990470886,0.21386951208114624,-0.39534899592399597,-0.7844398617744446,0.16118238866329193,0.2264600247144699,-0.6486614942550659,0.07750281691551208,0.3995681405067444,0.3532329499721527,0.591215968132019,-0.33076679706573486,-0.15012986958026886,-0.3511439859867096,-0.02882545068860054,0.4185164272785187,0.18508900701999664,0.5213735699653625,0.3404644727706909,-0.011618968099355698,-0.45269185304641724,0.030848486348986626,-0.3769577741622925,0.7916452884674072,-0.5688974261283875,0.5827289819717407,0.3889664113521576,-0.37112167477607727,-0.3261653184890747,0.38688406348228455,-0.33490994572639465,-0.022726602852344513,-0.5230696797370911,0.01051099132746458,-0.353598952293396,-0.168406680226326,-0.09230759739875793,-0.04518185555934906,-0.7078491449356079,0.34922873973846436,-0.7062464356422424,0.326101154088974,0.2567397356033325,-0.054281242191791534,0.5826722979545593,-0.28266477584838867,0.027032902464270592,-0.06689747422933578,0.6042172312736511,0.38306114077568054,0.23646551370620728,0.10232570022344589,-0.3984105885028839,-0.5083321332931519,-0.48328691720962524,0.5975615382194519,0.04071918874979019,-0.23254957795143127,0.2076580673456192,0.5304647088050842,0.12046383321285248,-0.30401745438575745,0.26306042075157166,-0.38744693994522095,-0.37940850853919983,0.4622114598751068,0.38445645570755005,0.42849722504615784,-0.17534290254116058,-0.532538890838623,0.65956050157547,0.6091856956481934,0.47001519799232483,0.11298259347677231,0.17032548785209656,-0.21325615048408508,-0.2916724979877472,0.6128790378570557,-0.5053708553314209,-0.4491352140903473,0.22759318351745605,0.31378546357154846,-0.1939629465341568,-0.3541387617588043,0.35731276869773865,0.5045247077941895,0.664667010307312,-0.1919293850660324,0.14037884771823883,-0.6305185556411743,0.2615010440349579,0.42306992411613464,0.3354487419128418,-0.6442870497703552,-0.28468057513237,-0.2699452340602875,-0.060672517865896225,0.6712363958358765,0.3048607409000397,0.0012251990847289562,-0.027376597747206688,-0.2801866829395294,-0.07487143576145172,0.030964050441980362,0.6379669904708862,-0.05450611189007759,0.567584753036499,-0.5457434058189392,0.31803467869758606,-0.44731196761131287,-0.1384023278951645,-0.13493138551712036,-0.504302978515625,-0.1990170031785965,-0.465614378452301,0.49679166078567505,-0.5654263496398926,-0.04197875037789345,-0.4032829999923706,-0.4843553602695465,0.607406735420227,0.6892199516296387,-0.7289817929267883,0.42478111386299133,-0.668877899646759,-0.06451152265071869,-0.340243399143219,0.2835090160369873,-0.6106593608856201,0.7264212369918823,-0.39051949977874756,-0.6589561700820923,0.5720589756965637,0.043900564312934875,-0.3940219283103943,0.08163753151893616,0.5694512128829956,-0.29989978671073914,0.7901084423065186,0.6158148646354675,0.002682835329324007,-0.5212442278862,0.07840819656848907,-0.3869437277317047,0.07403552532196045,-0.40245744585990906,0.10605975985527039,-0.5366359353065491,-0.3851804733276367,-0.6556263566017151,0.34999462962150574,0.5999354720115662,0.6058611273765564,0.5716679692268372,-0.16417300701141357,-0.38543155789375305,-0.006005431525409222,0.504163920879364,-0.37689751386642456,-0.4583398699760437,-0.48238059878349304,-0.4978405237197876,0.4483412206172943,-0.3950038254261017,-0.6415001749992371,0.2902745008468628,-0.29265835881233215,0.5432372093200684,0.11115104705095291,-0.3879440128803253,-0.20669496059417725,0.42989370226860046,-0.5506671071052551,0.40784522891044617,0.22980034351348877,0.07108544558286667,-0.5112717747688293,0.18244828283786774,0.6757016181945801,-0.35502752661705017,0.15913349390029907,0.5952394008636475,-0.4811730980873108,-0.2024756371974945,-0.2620059549808502,-0.2893468141555786,-0.36982718110084534,0.07184043526649475,-0.09853141754865646,-0.6306049227714539,-0.041856780648231506,-0.5391824245452881,-0.08020782470703125,0.06177890673279762,-0.4998091757297516,0.06457245349884033,0.14831829071044922,0.23300188779830933,-0.5003015995025635,-0.5015919804573059,-0.008639857172966003,-0.12478624284267426,0.004712134599685669,-0.5517472624778748,0.3186419606208801,0.5889692902565002,0.09899324178695679,0.6020976305007935,0.6008463501930237,0.3309580981731415,0.3803691267967224,-0.12117240577936172,0.4273560047149658,-0.05798385664820671,-0.22655238211154938,-0.3477245569229126,-0.1519278585910797,-0.4482409954071045,-0.10282571613788605,0.2570517957210541,-0.4425050616264343,-0.428188294172287,0.27155739068984985,0.29580801725387573,0.6021835803985596,0.153896301984787,0.006029475945979357,-0.6686875224113464,-0.00645042909309268,-0.6450713276863098,-0.036597445607185364,0.6078120470046997,-0.5678350925445557,-0.5397864580154419,-0.45789241790771484,-0.19298093020915985,-0.005023294594138861,-0.005717976484447718,0.3387627899646759,0.11957616358995438,0.2256891429424286,-0.26291623711586,-0.40069344639778137,0.15084628760814667,-0.39699554443359375,0.47846928238868713,-0.5002667307853699,-0.3011454939842224,0.46391376852989197,0.2158195525407791,-0.05470595881342888,0.21789458394050598,-0.5876117944717407,-0.15585710108280182,-0.13691379129886627,-0.4779801666736603,-0.036563530564308167,0.36463332176208496,0.3586808443069458,-0.11438412219285965,0.43269404768943787,0.6037956476211548,-0.17009451985359192,0.6262452006340027,-0.5684936046600342,-0.4021071195602417,0.07158225774765015,0.1347091943025589,0.2623097896575928,-0.5466755628585815,-0.2413494735956192,0.41978955268859863,-0.4092033803462982,-0.30166390538215637,-0.5358682870864868,-0.7208240628242493,-0.11979299783706665,0.6114397048950195,0.5103545784950256,-0.6579943895339966,-0.0697418600320816,-0.0635705292224884,-0.03144753724336624,-0.7800833582878113,0.3464604914188385,0.08976759761571884,-0.015108498744666576,-0.37141773104667664,-0.5281471610069275,0.20389805734157562,-0.10790877789258957,0.11254312098026276,-0.5055207014083862,0.3959634006023407,-0.5322054028511047,-0.34967783093452454,-0.1800455003976822,-0.011469865217804909,-0.1675199717283249,0.4261236786842346,-0.19314712285995483,0.3045497238636017,-0.39681923389434814,0.6774240732192993,-0.1851475089788437,0.09506251662969589,-0.39563804864883423,-0.28585970401763916,-0.49227020144462585,0.5555176138877869,0.06673251837491989,-0.0016113887540996075,0.43702393770217896,0.11922044306993484,0.6018580794334412,0.32692503929138184,-0.050365012139081955,0.3349589407444,0.2950446605682373,0.6327847242355347,-0.41113752126693726,0.1853354424238205,-0.2057706117630005,0.4257487952709198,-0.12520895898342133,-0.4457845985889435,0.6058526635169983,-0.6374667286872864,-0.47753360867500305,0.6275315284729004,-0.1474730223417282,-0.4110208749771118,0.5329713225364685,0.11877600103616714,-0.23433879017829895,0.6143271327018738,0.10658237338066101,-0.1268962323665619,0.5941809415817261,0.2615005075931549,0.1502729207277298,0.10958009958267212,0.19001184403896332,-0.24631457030773163,0.4038153290748596,-0.5241817235946655,-0.3966185748577118,-0.4916536509990692,0.2771364748477936,-0.6674641370773315,0.18596751987934113,-0.8064677119255066,-0.4295521676540375,-0.5646341443061829,-0.051883354783058167,-0.056291621178388596,0.5370771884918213,0.33585676550865173,0.4350733160972595,-0.17950613796710968,0.20972496271133423,0.6053304672241211,0.017593977972865105,0.46907106041908264,0.4213673770427704,0.5540947318077087,0.1140361800789833,0.5598650574684143,0.4317847490310669,0.5121580362319946,0.07644990086555481,-0.22216950356960297,-0.4079321622848511,0.6733670234680176,-0.0692390650510788,-0.20882780849933624,-0.08072960376739502,0.09588044881820679,-0.12044437229633331,-0.41150033473968506,0.11528872698545456,0.10874592512845993,0.3553066551685333,0.12826931476593018,-0.3477323353290558,0.4377959668636322,0.1496620625257492,-0.38925278186798096,-0.16729921102523804,0.12679718434810638,-0.19179819524288177,-0.5786718726158142,0.05646480619907379,0.44505465030670166,-0.43995288014411926,0.44448408484458923,0.4442416727542877,-0.14454030990600586,0.5003973841667175,-0.11630138009786606,-0.5262225866317749,-0.03383428603410721,0.2847177982330322,0.020442940294742584,0.36905282735824585,0.3683790862560272,0.16639457643032074,0.2670566737651825,-0.3859785795211792,-0.18631364405155182,0.37283211946487427,-0.4019935727119446,-0.8029910326004028,0.10050633549690247,0.13918296992778778,0.11206154525279999,-0.33953240513801575,-0.17452184855937958,0.10570491850376129,0.5667292475700378,0.10843081772327423,-0.2988452911376953,0.11736194789409637,-0.033185381442308426,0.31304600834846497,0.30546706914901733,-0.6652378439903259,0.38012784719467163,-0.2579440176486969,0.517973005771637,-0.2271956205368042,0.6090088486671448,-0.1388033777475357,0.33903637528419495,-0.2744441330432892,0.5606938600540161,0.008684604428708553,0.47530215978622437,-0.13176700472831726,0.2199285626411438,-0.0016164120752364397,-0.2603614032268524,-0.3531257212162018,0.6416104435920715,0.19285424053668976,0.507881760597229,-0.4021950662136078,-0.029882244765758514,0.2913147807121277,0.6066646575927734,0.1550915390253067,-0.08869572728872299,-0.13165275752544403,-0.14009015262126923,0.0729113519191742,-0.6506198644638062,-0.608864963054657,0.4812963902950287,-0.3906058073043823,0.11281446367502213,-0.6064899563789368,0.045607127249240875,0.4663173258304596,-0.32166197896003723,0.0368976965546608,-0.588226318359375,-0.3551897406578064,0.5929237604141235,-0.05034632980823517,-0.6466341018676758,0.10704107582569122,-0.2236577719449997,0.13772030174732208,-0.021074168384075165,0.24229112267494202,0.23932980000972748,0.26846861839294434,-0.4063681662082672,0.1486714631319046,-0.6411334276199341,-0.6477609276771545,0.11385908722877502,0.09921717643737793,-0.013297361321747303,-0.6618445515632629,0.4080234169960022,-0.46372610330581665,0.012192080728709698,-0.7009943723678589,0.5809808969497681,-0.08221473544836044,-0.35060641169548035,0.1139644905924797,-0.41375821828842163,0.19877317547798157,0.5025309920310974,-0.39646807312965393,0.6002788543701172,0.3099784255027771,-0.5112298727035522,-0.52681964635849,-0.25110897421836853,0.03284989669919014,0.5792490839958191,-0.6561688780784607,0.5636548399925232,0.5886660218238831,-0.3734716773033142,-0.49210694432258606,-0.09501907974481583,0.09926265478134155,0.5779805779457092,0.5918692350387573,-0.2575547397136688,-0.19964343309402466,-0.514883279800415,0.02997145615518093,0.10187952220439911,0.3208099603652954,-0.40611201524734497,0.2748289406299591,-0.3085401654243469,-0.5299153923988342,0.1560392677783966,0.15893083810806274,-0.6414457559585571,-0.4955398142337799,0.6563655138015747,0.29432445764541626,0.45099103450775146,0.463153213262558,0.2536255121231079,-0.4503001868724823,0.22016997635364532,0.3569348156452179,-0.4898682236671448,-0.13992512226104736,-0.45985737442970276,-0.23821677267551422,-0.04669416695833206,0.6012250185012817,0.5348193049430847,-0.36876222491264343,0.1936827450990677,-0.4947708547115326,-0.19352874159812927,0.6168767213821411,-0.4691130220890045,0.06970686465501785,0.17397728562355042,-0.06103037670254707,0.7892075777053833,0.0853467807173729,0.32965633273124695,0.04476786404848099,-0.2624172568321228,-0.7300400137901306,0.03672609105706215,0.2620007395744324,-0.46619105339050293,-0.16228003799915314,-0.2521972358226776,0.1780056208372116,-0.07819253951311111,0.7463110089302063,-0.24745100736618042,0.7726780772209167,0.5977278351783752,0.3247988820075989,0.5606334209442139,-0.4525027573108673,0.6029707789421082,0.056326378136873245,0.44974103569984436,0.10952799767255783,-0.3905775249004364,-0.4271559417247772,-0.41519695520401,-0.09643616527318954,0.10593568533658981,0.630946695804596,-0.317951500415802,-0.06476981937885284,0.6263788938522339,-0.12427742034196854,-0.05240332707762718,-0.3434378504753113,-0.3928511142730713,-0.4051761031150818,0.1203213557600975,-0.44374310970306396,0.5583887696266174,0.01487734541296959,-0.05025612190365791,-0.2805710732936859,-0.5532858371734619,0.10689981281757355,0.007778786588460207,-0.303016722202301,0.5332522988319397,0.3793276250362396,-0.6670967936515808,0.013153688982129097,-0.11460837721824646,-0.4009910523891449,-0.634760320186615,0.6153944730758667,-0.6647174954414368,-0.3995734453201294,-0.03720284625887871,0.29476240277290344,0.2659493684768677,-0.4274020493030548,-0.6892516016960144,-0.4572760760784149,-0.36200761795043945,0.59208083152771,-0.5916879177093506,-0.10253126174211502,-0.09875355660915375,0.32096830010414124,-0.399122953414917,0.11737126857042313,-0.3968750536441803,-0.26029473543167114,-0.7506588101387024,0.20382703840732574,0.6141284704208374,-0.7372074127197266,0.0912034660577774,0.4307948648929596,0.3826192617416382,-0.12448324263095856,0.40641647577285767,-0.18773922324180603,0.23543781042099,-0.5748162865638733,-0.5999029278755188,0.23964034020900726,-0.47872722148895264,-0.4214269816875458,0.09421704709529877,-0.13585668802261353,0.542871356010437,0.014625979587435722,-0.4879809617996216,-0.07093216478824615,-0.047338131815195084,-0.6319283843040466,-0.3418162167072296,0.031858328729867935,-0.2562539279460907,0.6198514699935913,0.17514032125473022,-0.5740423798561096,0.46111875772476196,0.11533387750387192,-0.1578756421804428,-0.4833071231842041,0.3348354995250702,-0.6023827791213989,0.04587769880890846,-0.03749116510152817,0.7365648746490479,0.11531496793031693,-0.3989000916481018,0.06225964054465294,0.5357259511947632,-0.006799496244639158,-0.27899959683418274,-0.3433837592601776,0.10092651844024658,-0.5133380889892578,-0.29763689637184143,-0.28918808698654175,0.2625366151332855,-0.4031203091144562,0.0978953018784523,0.3065039813518524,-0.26565679907798767,-0.04793606698513031,-0.20854410529136658,-0.10029508918523788,0.6687005162239075,-0.3979518413543701,-0.2413100004196167,-0.11788281798362732,-0.02670339308679104,-0.2992740273475647,0.08470182120800018,-0.06816106289625168,0.4933333396911621,0.10815845429897308,-0.23481370508670807,0.07812294363975525,-0.5708956122398376,0.030878795310854912,-0.30850088596343994,-0.2670997381210327,0.7063174843788147,-0.17273126542568207,0.09914302080869675,-0.39523035287857056,0.533810019493103,0.344833105802536,0.1104944720864296,0.39689165353775024,-0.4460049271583557,0.3444834351539612,0.286385178565979,0.8077307343482971,-0.10465261340141296,0.3577615022659302,0.24629150331020355,0.3319537043571472,-0.538814902305603,-0.012872077524662018,0.6008559465408325,-0.15362462401390076,-0.515025794506073,-0.6621799468994141,-0.2988826036453247,0.5897903442382812,-0.49174854159355164,-0.09971275925636292,-0.05201936885714531,-0.00026622621226124465,0.7038468718528748,0.2723718285560608,0.2289801687002182,-0.657514750957489,0.5597565770149231,-0.4764981269836426,0.4648077189922333,0.3004060685634613,-0.11869802325963974,-0.30803266167640686,0.365883469581604,-0.1450202614068985,0.47870227694511414,0.7922729849815369,0.5997554659843445,0.17964793741703033,-0.4997078478336334,-0.44129639863967896,-0.07193402945995331,-0.16109415888786316,0.20319993793964386,0.28479236364364624,-0.4530477523803711,0.6223793029785156,-0.27764254808425903,0.5877543687820435,-0.43300190567970276,0.602283239364624,0.0006221163203008473,-0.4897204637527466,0.34693101048469543,-0.32127246260643005,-0.48780107498168945,0.5790191888809204,-0.5727763175964355,0.6456810832023621,-0.45309320092201233,-0.015236410312354565,0.031040910631418228,0.5448475480079651,-0.13938596844673157,0.04835497960448265,-0.593362033367157,0.5245254039764404,0.559008777141571,0.58543461561203,-0.3947822153568268,0.22214967012405396,0.6673241257667542,-0.4072800278663635,0.26350876688957214,-0.5522229671478271,0.238267183303833,-0.4003249406814575,0.42911049723625183,0.0640668049454689,-0.7672909498214722,-0.3935989737510681,0.011198388412594795,-0.3977484703063965,-0.4072819948196411,0.20655861496925354,0.650631844997406,0.6448031067848206,0.681684136390686,-0.031933777034282684,-0.6564576625823975,-0.3159124255180359,0.7258814573287964,-0.6642014980316162,0.35639458894729614,-0.39944329857826233,-0.07063508778810501,-0.4032089114189148,0.42025992274284363,-0.39437079429626465,0.11234419792890549,0.5492079257965088,0.4256138205528259,-0.37431615591049194,0.5989565849304199,0.38708093762397766,0.16023240983486176,-0.65935218334198,0.274458110332489,-0.6483423113822937,0.12600883841514587,-0.09064310789108276,0.7024752497673035,-0.5433474183082581,-0.3305723965167999,-0.1548881083726883,0.6187398433685303,-0.17227484285831451,0.14964911341667175,-0.25705233216285706,-0.301084041595459,-0.4904382824897766,0.280501127243042,0.4358203709125519,-0.2833174765110016,0.4058440327644348,0.18290047347545624,0.2921124994754791,-0.38741424679756165,-0.12419568747282028,-0.4323634207248688,0.40291714668273926,0.08778060972690582,0.3406429588794708,-0.005926556885242462,-0.09254341572523117,-0.37900087237358093,0.4743284285068512,0.06708674877882004,-0.13935528695583344,-0.4969407618045807,0.5079004764556885,-0.6524733901023865],\"y\":[-0.14058969914913177,0.24635830521583557,0.06487658619880676,0.3087974488735199,-0.535091757774353,-0.402260422706604,-0.5342963933944702,-0.5067556500434875,0.7218113541603088,0.629626452922821,-0.3976568877696991,0.032326024025678635,-0.11200739443302155,0.6792248487472534,-0.2855808138847351,0.6127423644065857,-0.14247314631938934,-0.023275528103113174,0.25925949215888977,-0.4486178159713745,-0.1625266671180725,-0.4566192626953125,0.35806384682655334,0.48208850622177124,-0.29927533864974976,0.6750335097312927,-0.07268726825714111,0.5519164800643921,-0.45430684089660645,-0.5662440657615662,0.3214200437068939,0.557023823261261,0.19382555782794952,0.3590065836906433,0.49365636706352234,-0.21045292913913727,0.26994067430496216,-0.6144196391105652,-0.400117963552475,-0.3150486350059509,-0.5449420809745789,-0.4460112154483795,0.48224112391471863,0.38379237055778503,0.3507349491119385,0.43807998299598694,-0.36751145124435425,0.007817172445356846,-0.5525596141815186,0.16097404062747955,0.47112128138542175,0.22345012426376343,-0.6765986680984497,-0.1664724498987198,0.318493515253067,-0.20300917327404022,-0.08102245628833771,-0.5733698010444641,0.0697978287935257,0.13726480305194855,-0.28982073068618774,-0.6999571323394775,0.04306177422404289,-0.1297464817762375,0.42738133668899536,0.6137825846672058,-0.5117669105529785,-0.6727181673049927,0.533980667591095,0.5144491195678711,0.21403028070926666,-0.608329176902771,-0.44563862681388855,0.7189680337905884,-0.3502987325191498,0.5184366703033447,0.17171244323253632,-0.45080167055130005,0.4460039734840393,0.04845116287469864,0.5642313361167908,-0.7615264654159546,-0.17557835578918457,0.21916250884532928,-0.2798226475715637,-0.15721318125724792,0.4934559762477875,-0.2816106081008911,-0.5237818360328674,-0.017367566004395485,-0.016314387321472168,0.6338754296302795,0.11540938913822174,-0.04031441733241081,-0.07649603486061096,0.2866441011428833,-0.5316214561462402,-0.6028348207473755,0.1419081836938858,0.570203959941864,-0.47250664234161377,0.006762810051441193,-0.05365234613418579,0.17757083475589752,0.25292035937309265,0.43074971437454224,-0.3056224584579468,0.27146491408348083,0.3796262741088867,-0.5789719820022583,-0.6670423150062561,-0.505543053150177,0.657447338104248,-0.25761231780052185,0.4247627854347229,0.4703679084777832,0.24248744547367096,0.675650417804718,0.13794369995594025,-0.4206681549549103,-0.10240763425827026,-0.10896988958120346,0.48453715443611145,0.6538218855857849,0.2694571912288666,-0.4035455286502838,-0.1161610558629036,0.02472054213285446,0.5880098938941956,0.008272451348602772,-0.361059308052063,-0.5734840631484985,-0.5464609265327454,-0.43947792053222656,0.3580295145511627,-0.1803811639547348,0.21678270399570465,0.3903215229511261,0.2962639033794403,0.0148621192201972,0.04227759689092636,-0.5517314076423645,-0.07544607669115067,0.20158877968788147,-0.2865196168422699,0.11627325415611267,-0.41048136353492737,-0.13701747357845306,-0.2341158092021942,-0.6107829809188843,0.37132349610328674,0.3266780376434326,-0.6681352257728577,-0.5708397030830383,0.40921705961227417,-0.6019932627677917,0.5290895700454712,-0.49456048011779785,-0.4501079320907593,0.5436785221099854,0.38474318385124207,-0.28612327575683594,0.1233249381184578,-0.4784698188304901,-0.5868642926216125,0.11351987719535828,-0.4319291114807129,-0.053631674498319626,-0.7155012488365173,-0.213232159614563,0.19057251513004303,-0.24731019139289856,0.32978197932243347,0.08275584876537323,-0.3852592706680298,-0.09858746081590652,0.1986321657896042,0.17683614790439606,-0.43430575728416443,-0.4431944787502289,0.34835299849510193,0.33237314224243164,-0.6335738897323608,0.20203930139541626,0.15149861574172974,0.389644980430603,-0.05324741452932358,0.6516801118850708,-0.5748252272605896,-0.4082256853580475,-0.5439389944076538,0.30791524052619934,0.3379325866699219,-0.7142699956893921,0.5866832137107849,0.03613773733377457,-0.13086000084877014,-0.35324129462242126,0.6476847529411316,-0.23735491931438446,0.3505914509296417,0.21182873845100403,0.18073314428329468,-0.49573245644569397,0.12290690094232559,-0.265459805727005,0.15179085731506348,0.15760624408721924,-0.4792202413082123,-0.44649097323417664,0.09337349236011505,0.40019142627716064,-0.4572773575782776,-0.5218208432197571,-0.6106841564178467,0.21844209730625153,-0.2651847302913666,-0.6379355192184448,-0.4073973298072815,-0.756658136844635,0.5147451162338257,0.3342406749725342,0.41375625133514404,0.7449222207069397,0.06584446132183075,0.4524634778499603,-0.19787606596946716,-0.5210112929344177,0.1880415976047516,0.5455045104026794,0.15597040951251984,-0.22318965196609497,-0.3584834337234497,-0.044657886028289795,0.2056402862071991,0.1491364985704422,0.15169179439544678,-0.39469242095947266,0.7007912993431091,0.30090585350990295,0.5509693026542664,0.6308016180992126,-0.42597562074661255,0.3061194121837616,0.7058957815170288,0.3526822030544281,0.7877989411354065,-0.31857502460479736,-0.495726078748703,0.6515197157859802,-0.41297557950019836,-0.26291313767433167,0.7307436466217041,-0.5029244422912598,-0.46753019094467163,-0.36000898480415344,-0.0600833036005497,0.16725964844226837,-0.48274314403533936,-0.6086997985839844,0.5968108177185059,0.45820102095603943,0.6566150784492493,0.32972466945648193,-0.1505800187587738,-0.41766926646232605,-0.6694028973579407,0.3601458966732025,-0.48927807807922363,0.09961932897567749,-0.20817868411540985,0.10788284242153168,0.1868784874677658,0.3115997612476349,0.13140322268009186,0.10869382321834564,0.5928190350532532,0.06145574897527695,-0.492104709148407,0.20026998221874237,-0.29152825474739075,0.6140033006668091,-0.7007398009300232,-0.38888636231422424,-0.137767031788826,0.4297119081020355,0.7726637125015259,0.1002730205655098,0.6359846591949463,0.7019472718238831,0.0407283678650856,-0.1313420832157135,0.2927889823913574,-0.06784001737833023,0.5437766909599304,0.12928883731365204,0.7088513970375061,-0.5838496685028076,0.2807973027229309,0.6822500228881836,-0.5072783827781677,0.5305644273757935,0.5534184575080872,0.07321256399154663,0.15632234513759613,-0.47499486804008484,0.009640995413064957,0.49145978689193726,-0.17830593883991241,-0.23260189592838287,-0.06961352378129959,0.4464421570301056,0.6536065936088562,0.6087934374809265,-0.182835191488266,-0.09920374304056168,0.5849100947380066,0.5007221102714539,-0.4844563603401184,-0.3229292929172516,-0.3640388548374176,-0.0022026710212230682,-0.008695573545992374,-0.5409743785858154,-0.18454590439796448,0.41232138872146606,-0.5826686024665833,-0.191706120967865,0.06269124895334244,-0.0658871978521347,-0.20105409622192383,-0.4513304531574249,-0.5095605254173279,0.24738086760044098,0.38619181513786316,0.688591718673706,-0.35031062364578247,0.6490170359611511,0.6922470927238464,0.7688230872154236,-0.17851074039936066,-0.16259220242500305,-0.33662286400794983,-0.6313151717185974,0.7247052192687988,0.362914502620697,-0.3823850154876709,-0.23011283576488495,0.11503381282091141,-0.12984636425971985,-0.13112995028495789,-0.5159761905670166,-0.5887494087219238,0.4678539037704468,0.36193472146987915,0.17980195581912994,0.012478585354983807,0.2807154953479767,-0.6024443507194519,0.029412582516670227,0.4170757234096527,0.22484831511974335,-0.6242510080337524,0.6579788327217102,-0.06900956481695175,0.3982633054256439,-0.4649893641471863,-0.037990059703588486,-0.5915229916572571,0.125454843044281,-0.7342552542686462,0.3623172640800476,0.16165998578071594,0.17831341922283173,-0.04680345952510834,0.41869547963142395,-0.05151098221540451,0.38442227244377136,-0.14828522503376007,0.07608731091022491,0.7918774485588074,-0.2678719460964203,0.06807795912027359,0.15039795637130737,0.4175889194011688,0.2948544919490814,0.16830763220787048,-0.06023433059453964,-0.21781471371650696,-0.1328212022781372,0.7369412779808044,-0.19182834029197693,-0.007470934651792049,0.6042982339859009,0.24255825579166412,-0.12026310712099075,0.022846059873700142,-0.30549606680870056,-0.43381622433662415,-0.04939192906022072,0.17400072515010834,0.2653340697288513,0.057478535920381546,-0.04639234393835068,0.004480840638279915,-0.5537247061729431,-0.4023275375366211,0.5070534348487854,0.211064875125885,0.5226160287857056,-0.05027921870350838,-0.447815477848053,0.5372133851051331,-0.3724783957004547,-0.40610185265541077,-0.43659353256225586,0.7881613969802856,-0.35600724816322327,-0.3796783983707428,-0.12673543393611908,-0.06927767395973206,-0.04596467316150665,0.2593097388744354,0.3661853075027466,-0.0707542896270752,-0.33900171518325806,-0.5758613348007202,-0.4186709523200989,0.35621216893196106,0.12767650187015533,-0.04278872162103653,0.17860250174999237,0.028308900073170662,0.48772549629211426,0.6917163133621216,-0.27995920181274414,0.42923495173454285,0.4320887327194214,0.5999437570571899,-0.3025335967540741,-0.057525426149368286,-0.039856646209955215,0.07360204309225082,-0.13063973188400269,-0.7144876718521118,-0.4853178560733795,0.3578586280345917,-0.13634730875492096,-0.04569191485643387,0.44017747044563293,-0.39620256423950195,-0.43957099318504333,-0.15379251539707184,-0.026113346219062805,-0.2960691750049591,0.5498884320259094,-0.07068527489900589,-0.2665467858314514,-0.508516252040863,0.7731605768203735,-0.18354350328445435,-0.07640723884105682,-0.25401023030281067,-0.42040443420410156,-0.4003135859966278,-0.3706751763820648,-0.38914954662323,-0.11358918249607086,-0.2808336615562439,-0.36361443996429443,-0.466406911611557,0.13261540234088898,-0.19870862364768982,0.10600084811449051,0.6364228129386902,-0.4708976149559021,0.4873245060443878,-0.4244903326034546,0.5052541494369507,-0.08178577572107315,0.5007225275039673,0.19091790914535522,0.22883151471614838,0.6529686450958252,-0.4944002330303192,-0.3323063552379608,-0.3692591190338135,0.5564137101173401,-0.09197024255990982,0.032675616443157196,-0.4096358120441437,0.2757228910923004,0.7552194595336914,0.04604322835803032,0.2991953194141388,-0.007980035617947578,-0.0018031452782452106,0.8004884123802185,-0.5508179664611816,-0.5066500306129456,0.3284335434436798,0.022738436236977577,0.2648769021034241,0.19069519639015198,0.2354487031698227,0.45102864503860474,-0.3562810719013214,-0.36896824836730957,0.22537197172641754,0.07940089702606201,0.3252883851528168,0.2933712601661682,-0.03468891233205795,-0.03955833241343498,-0.4414914846420288,-0.5300729274749756,-0.13622014224529266,0.063670814037323,-0.6143056154251099,-0.011952944099903107,-0.4841190576553345,-0.2448742538690567,0.01080309133976698,0.031311314553022385,0.676816999912262,0.030981816351413727,-0.29718878865242004,0.3332493007183075,0.5371213555335999,-0.022306589409708977,0.4165786802768707,0.6818446516990662,0.4028981328010559,0.5541910529136658,0.5593914985656738,-0.5580806732177734,0.4680788815021515,0.3858327269554138,0.6083555221557617,-0.03729595988988876,-0.5755754709243774,-0.03415587544441223,-0.7101607322692871,-0.09172610938549042,-0.3927314579486847,-0.23576228320598602,0.3910024166107178,0.7630774974822998,0.14488805830478668,0.5236586332321167,-0.26824989914894104,0.5408185720443726,-0.7015096545219421,0.1265864372253418,-0.11137448251247406,0.05381786450743675,-0.2943178713321686,-0.23529408872127533,-0.6957187056541443,0.36462512612342834,-0.7208635807037354,-0.1205705776810646,-0.4925351142883301,0.5854387879371643,0.6427814960479736,-0.4783290922641754,-0.0144646055996418,0.5295364260673523,0.585588812828064,-0.2493952065706253,-0.4413054585456848,-0.4060904085636139,0.1768411248922348,-0.6777975559234619,-0.4118179976940155,-0.5047959089279175,-0.5357531905174255,0.396329402923584,-0.5253393054008484,-0.04730980843305588,0.12029664218425751,0.5848190188407898,0.2785927653312683,-0.4357559084892273,-0.48614636063575745,0.4657546579837799,0.5132425427436829,-0.44990792870521545,0.7552263140678406,-0.467063844203949,0.07314545661211014,0.4833775460720062,0.10884391516447067,0.19466868042945862,0.07881676405668259,-0.07420999556779861,-0.18635666370391846,0.11964942514896393,0.6435525417327881,-0.025267785415053368,0.19059501588344574,0.18563371896743774,-0.5091897249221802,-0.0535634309053421,0.4973086714744568,0.0962490513920784,-0.42666998505592346,0.14905405044555664,0.6684799790382385,0.07960432767868042,0.4093642830848694,-0.31358638405799866,0.20188160240650177,-0.5605394840240479,-0.19660483300685883,0.16782130300998688,0.7309310436248779,0.4950416386127472,-0.0008656797581352293,0.33519119024276733,0.5187181830406189,0.6195909976959229,-0.5133430361747742,0.5340147614479065,-0.44062530994415283,-0.6003053188323975,-0.2813660800457001,-0.2592812478542328,0.77206951379776,0.5142953395843506,0.11465369910001755,0.4704701602458954,-0.39069610834121704,0.4099697470664978,0.12096374481916428,-0.3569484055042267,-0.10702801495790482,0.033444128930568695,0.3480387330055237,0.4223514795303345,0.42500007152557373,0.35797345638275146,-0.38122323155403137,0.2007724642753601,0.10356499999761581,-0.5078406929969788,0.40867477655410767,-0.4665934443473816,-0.17478270828723907,-0.2078225463628769,0.4290778636932373,-0.5363561511039734,0.33324018120765686,0.4563814401626587,0.14729416370391846,0.02829858474433422,0.5081301331520081,-0.5330337285995483,-0.4724186062812805,0.13204272091388702,0.1874036341905594,0.5579526424407959,-0.6238407492637634,-0.47794800996780396,0.5645216703414917,-0.0381183996796608,-0.282383531332016,-0.576178252696991,0.15823377668857574,0.05229361355304718,0.05134117230772972,-0.011798964813351631,0.3291773200035095,-0.511076807975769,-0.19653894007205963,0.3143388330936432,-0.3419434428215027,-0.6026376485824585,0.5400282144546509,-0.4828214943408966,0.26875653862953186,0.5881232619285583,0.6230280995368958,0.71236252784729,-0.5033219456672668,0.6673800945281982,0.10213573276996613,-0.4000721275806427,0.008558648638427258,-0.38488495349884033,-0.39399632811546326,-0.5185530185699463,0.15132884681224823,-0.7455092072486877,0.5216606855392456,0.21280275285243988,-0.3967156708240509,0.39929986000061035,0.17714668810367584,-0.7074815630912781,0.6470565795898438,0.04160176217556,0.24220360815525055,-0.14322534203529358,0.13465280830860138,-0.2605808675289154,-0.3933526873588562,-0.3220171630382538,0.6922335624694824,0.6526933908462524,-0.024228103458881378,0.28547871112823486,0.4317530393600464,-0.6763571500778198,-0.6749989986419678,0.0777525007724762,-0.6159079670906067,-0.3995288610458374,0.5010342597961426,-0.6092121005058289,0.2864801287651062,-0.09003760665655136,0.3161146640777588,-0.7439914345741272,-0.06293738633394241,-0.1916629523038864,0.08341013640165329,0.4403945803642273,-0.5590785145759583,-0.3172411024570465,0.002682883059605956,-0.44919833540916443,-0.45913752913475037,0.2294318675994873,-0.350322961807251,0.17229202389717102,0.3927099406719208,0.09789227694272995,-0.12057770788669586,-0.6204957365989685,-0.4430132508277893,-0.3185561001300812,-0.39542850852012634,-0.4807621240615845,0.24092425405979156,0.7435569167137146,-0.6698475480079651,-0.3240720331668854,0.5727233290672302,0.11891090869903564,-0.27406996488571167,-0.3755609691143036,0.06742110103368759,-0.015745166689157486,0.7833230495452881,-0.28624629974365234,-0.7231742143630981,-0.256580114364624,-0.407285213470459,-0.5752289891242981,0.5071951746940613,0.4126278758049011,0.29219308495521545,0.20336824655532837,-0.46547505259513855,0.15955650806427002,-0.2762284576892853,0.13976040482521057,-0.2085263729095459,0.4858574867248535,0.5709545016288757,-0.26875707507133484,-0.31263116002082825,0.6062155961990356,0.37080639600753784,0.39174944162368774,-0.22336161136627197,0.21761716902256012,-0.21954131126403809,0.02680654078722,-0.06960199028253555,0.23886097967624664,-0.5324698686599731,0.16280439496040344,-0.39414167404174805,-0.1834491789340973,0.010380263440310955,0.19344983994960785,0.63663250207901,0.08209270983934402,0.7455552220344543,-0.5953763723373413,0.3506181836128235,0.6316202878952026,0.3796999454498291,0.028204113245010376,-0.25168099999427795,-0.6519798040390015,-0.26006755232810974,-0.22944672405719757,-0.4185558557510376,-0.018429342657327652,0.46823063492774963,0.5699529647827148,0.3320213556289673,0.5731475353240967,0.43188825249671936,-0.2285558432340622,-0.6739399433135986,0.6385208368301392,0.20322869718074799,0.2563835084438324,-0.5686247944831848,0.32359492778778076,0.43987393379211426,-0.06878453493118286,-0.07191750407218933,-0.2832304537296295,-0.06022299826145172,-0.2517198324203491,0.6236386895179749,-0.14217612147331238,-0.1565733551979065,-0.2781071662902832,0.03533075004816055,-0.47550642490386963,0.29725342988967896,-0.32079017162323,0.02661597542464733,0.24795882403850555,-0.13044899702072144,0.1561477780342102,-0.12579798698425293,0.5424770712852478,0.21115662157535553,-0.10246068984270096,-0.43701955676078796,0.29149532318115234,-0.0721663236618042,0.060335490852594376,-0.5094709992408752,-0.435798317193985,-0.4333043694496155,-0.2984410226345062,0.6797447204589844,-0.4522955119609833,-0.6132346987724304,-0.15141232311725616,0.755297839641571,0.07631629705429077,-0.12338436394929886,0.43968096375465393,0.17103305459022522,0.1965000331401825,-0.3571244478225708,-0.01309719868004322,0.2427443265914917,0.6304529905319214,-0.18694257736206055,-0.13934843242168427,-0.2477749139070511,0.6130083799362183,0.5726258754730225,0.32414233684539795,0.28821977972984314,-0.0580872967839241,0.20622940361499786,0.08488648384809494,-0.5149049758911133,-0.7739435434341431,-0.007619188632816076,0.48335736989974976,-0.53428715467453,0.46144115924835205,0.492687463760376,0.6962877511978149,0.5578173995018005,-0.02723703160881996,-0.36337172985076904,0.03502418100833893,0.5378771424293518,0.49163806438446045,0.7156767845153809,0.30412623286247253,-0.042710594832897186,0.4798482060432434,-0.08360360562801361,0.16194084286689758,-0.5138969421386719,0.4570665657520294,-0.6352640390396118,0.4186634421348572,-0.4295036792755127,0.29597795009613037,0.17274411022663116,0.5760620832443237,0.02573481947183609,-0.2818797528743744,0.3528604805469513,0.3402807116508484,0.3625636100769043,-0.16392259299755096,-0.34489646553993225,0.20444440841674805,0.4756447374820709,0.33431771397590637,-0.40412595868110657,0.18790394067764282,0.27995404601097107,0.3580303192138672,-0.41506779193878174,0.21109554171562195,0.41133880615234375,-0.4581661820411682,0.20664939284324646,0.4996950924396515,-0.24129618704319,0.4973374307155609,0.4330516755580902,0.746466875076294,-0.5087406039237976,-0.22723600268363953,-0.03424664959311485,0.6914921402931213,-0.6367051005363464,-0.6197501420974731,0.11434908956289291,0.7207401990890503,-0.19738611578941345,-0.5355947613716125,-0.29324743151664734,-0.0729403868317604,0.44509851932525635,-0.22671468555927277,0.3666527271270752,0.3134465515613556,-0.47983089089393616,0.12107320874929428,0.4908578395843506,-0.597993791103363,0.42158880829811096,0.24277929961681366,0.12682361900806427,-0.5217678546905518,0.11138290166854858,0.5847921967506409,-0.01103766169399023,-0.3420916199684143,-0.2751865088939667,0.5427904725074768,0.36025872826576233,0.30948391556739807,-0.4171451926231384,0.0070093595422804356,-0.5620766282081604,0.24640917778015137,-0.22770167887210846,-0.24185074865818024,-0.5777817368507385,-0.32119986414909363,-0.28187641501426697,0.6066598296165466,0.676287829875946,-0.3444713056087494,0.6563799381256104,0.5678994059562683,-0.6761717796325684,-0.42867007851600647,0.07530362159013748,0.6695750951766968,-0.05750874802470207,0.23098209500312805,-0.03876758739352226,-0.2783767580986023,-0.5001766085624695,-0.6628361940383911,-0.3267993927001953,0.06903857737779617,-0.5902640223503113,-0.6272058486938477,-0.26943498849868774,-0.2747694253921509,0.4583596885204315,-0.2068302035331726,0.4879133105278015,-0.4941647946834564,-0.6081003546714783,0.22107084095478058,-0.13707011938095093,0.49808406829833984,-0.24252043664455414,0.3874143958091736,0.17941699922084808,-0.048163656145334244,0.6133785247802734,0.47820648550987244,-0.13586647808551788,-0.567898690700531,0.07550041377544403,0.06194252148270607,0.34883248805999756,-0.10776513814926147,-0.47838693857192993,-0.5194084644317627,0.7889199256896973,0.24199627339839935,0.4865592122077942,-0.23720881342887878,-0.021579239517450333,-0.11968861520290375,0.007978378795087337,0.0841839611530304,-0.5923216342926025,-0.45342618227005005,0.29468709230422974,-0.07288629561662674,0.4727405607700348,0.4360499978065491,0.5017606019973755,-0.3503724932670593,0.2509085536003113,-0.028301751241087914,0.16040249168872833,-0.29327109456062317,-0.5492967963218689,0.2808627486228943,-0.626469612121582,-0.31797173619270325,0.10590006411075592,-0.1302039921283722,-0.36568164825439453,0.15043354034423828,-0.3788212835788727,-0.3294021487236023,-0.7225462794303894,-0.26770439743995667,0.6678772568702698,0.6441430449485779,0.044364310801029205,0.13548409938812256,-0.5981429815292358,0.31348443031311035,0.6199886202812195,-0.10543227940797806,0.6013894081115723,-0.5560412406921387,-0.20330595970153809,-0.2310161590576172,-0.1385391652584076,-0.3163759708404541,0.09954018145799637,-0.3381948471069336,0.45052194595336914,0.10440177470445633,-0.4782477915287018,-0.07279079407453537,-0.7431045174598694,0.5981765389442444,-0.17582209408283234,0.5761010646820068,-0.3521881699562073,-0.7293089628219604,-0.004929598420858383,-0.06205662339925766,-0.44279345870018005,-0.6104531288146973,-0.7484244108200073,-0.11055884510278702,0.7549874186515808,0.013162740506231785,0.0272350013256073,0.422542542219162,0.06811105459928513,0.08112398535013199,-0.21256794035434723,-0.06721100956201553,0.5906053185462952,-0.14644576609134674,0.4262351095676422,0.31444689631462097,0.23452018201351166,0.02315465547144413,0.2320767641067505,-0.11042723804712296,0.5891585350036621,0.5817767977714539,-0.4190620183944702,-0.18663711845874786,0.22983971238136292,0.32502853870391846,-0.5681153535842896,0.20409438014030457,-0.015310246497392654,-0.06011933460831642,0.47780275344848633,-0.1552886813879013,-0.32340770959854126,0.21038955450057983,0.4058022201061249,-0.2940639853477478,0.5980534553527832,0.11558558791875839,-0.31078168749809265,0.49721580743789673,0.6234782338142395,0.31923580169677734,-0.3846205174922943,0.26765140891075134,-0.39794784784317017,0.07387907058000565,-0.1373189389705658,-0.15498937666416168,-0.5600404739379883,-0.41041433811187744,0.7015992403030396,0.50089430809021,0.14211976528167725,-0.6351005434989929,-0.12726151943206787,-0.0977899506688118,0.5022629499435425,0.5452113747596741,0.0337972454726696,-0.3336140215396881,0.6497724056243896,0.16532933712005615,-0.22542579472064972,-0.29023468494415283,-0.24158380925655365,0.033748283982276917,-0.16215632855892181,0.37827178835868835,-0.07428960502147675,-0.3451565206050873,-0.45140543580055237,-0.04759833589196205,0.2709841728210449,0.45585212111473083,0.5787976384162903,-0.2450941652059555,-0.6778592467308044,-0.13314969837665558,0.37988516688346863,-0.09500427544116974,0.6604386568069458,0.012970218434929848,0.21361488103866577,-0.040956903249025345,0.18001298606395721,0.014641977846622467,0.0422685481607914,-0.026376180350780487,-0.29432448744773865,-0.04548531398177147,0.5499132871627808,0.27685579657554626,0.16250307857990265,0.33475032448768616,0.7535139918327332,0.18734239041805267,-0.025947565212845802,0.2353087216615677,0.2602156102657318,0.08955457806587219,0.03347805514931679,-0.42024144530296326,0.12838083505630493,0.2684619426727295,-0.497569739818573,0.10671684890985489,0.3999950587749481,0.4724328815937042,0.5182521939277649,-0.016807517036795616,-0.22999338805675507,0.3212379217147827,-0.33802714943885803,-0.4107989966869354,0.0910843014717102,-0.21828210353851318,0.5385146141052246,0.05970369279384613,0.22724953293800354,0.03887945041060448,-0.6462423205375671,-0.3968839943408966,-0.4914635419845581,0.7092230916023254,-0.6714541912078857,-0.14642415940761566,-0.11233852058649063,-0.31604546308517456,0.414450466632843,-0.4523390829563141,0.23187130689620972,0.5876559019088745,0.2849673926830292,-0.4781090021133423,-0.01657910831272602,0.08521907776594162,0.26240578293800354,-0.2919967472553253,0.30092379450798035,0.5348588228225708,-0.5425482988357544,0.2045854926109314,0.4749145209789276,-0.7859415411949158,-0.11808531731367111,-0.33087632060050964,0.5062363147735596,0.5544217824935913,0.36850765347480774,0.3631616234779358,-0.4520055949687958,-0.5390691161155701,-0.3332303762435913,-0.38364893198013306,0.2972604036331177,-0.5036463141441345,-0.263662189245224,0.30889904499053955,-0.4255030155181885,-0.5145800113677979,-0.27644237875938416,0.2757730782032013,0.1900816112756729,0.4647562503814697,0.461678147315979,-0.49260231852531433,-0.2700948715209961,0.44306743144989014,0.3633522093296051,0.18621563911437988,-0.2166055291891098,0.5958631634712219,-0.5576813220977783,0.35777515172958374,-0.021991483867168427,0.8448337316513062,-0.16020888090133667,0.226510688662529,-0.1004917100071907,0.17445646226406097,0.13331326842308044,0.02114122547209263,0.37606385350227356,0.25698649883270264,0.19632215797901154,0.3985150158405304,-0.5034047961235046,-0.04430248215794563,-0.3117215037345886,0.5462287664413452,0.4917791783809662,-0.41181185841560364,0.6189935803413391,-0.6709677577018738,-0.025726234540343285,0.19045281410217285,-0.40741291642189026,-0.7056518793106079,-0.5490756630897522,0.5901377201080322,-0.5130136609077454,0.14413689076900482,-0.6057950258255005,-0.25787317752838135,0.30569642782211304,0.7284188866615295,0.5139214992523193,0.6531792879104614,0.6344347596168518,0.07725878804922104,-0.2853035032749176,0.08351962268352509,0.21108388900756836,-0.5445763468742371,0.027786104008555412,0.10817442834377289,0.08497891575098038,-0.046508900821208954,-0.5089171528816223,-0.382608562707901,0.06869355589151382,-0.08704923093318939,-0.3943668007850647,-0.639803946018219,0.019420748576521873,-0.24647222459316254,-0.40324270725250244,-0.6415581107139587,-0.38507935404777527,-0.47212257981300354,0.1399669200181961,-0.649330735206604,-0.04375850036740303,0.3690367639064789,0.18560317158699036,0.5220052003860474,-0.09894725680351257,0.06845889240503311,0.2637680172920227,0.03512764722108841,-0.16864623129367828,-0.30565884709358215,-0.3749043345451355,-0.15241238474845886,-0.0008408987778238952,-0.2460125833749771,0.6318700909614563,-0.10819103568792343,0.1709587574005127,0.4587875008583069,-0.5168799757957458,0.23375138640403748,0.5806372165679932,-0.42279690504074097,0.4062769412994385,0.09300220757722855,0.37689822912216187,0.5245174169540405,-0.006049039773643017,-0.25609612464904785,-0.22798050940036774,0.013518078252673149,-0.6074210405349731,-0.16675785183906555,0.5712903141975403,0.02847393788397312,0.6095616817474365,0.3913353681564331,-0.17556212842464447,-0.7202329635620117,-0.19780386984348297,0.3038753271102905,0.35940447449684143,-0.36561936140060425,0.6639066338539124,0.44480282068252563,-0.5461951494216919,0.31976214051246643,0.6355486512184143,0.15795201063156128,-0.43430688977241516,0.09744540601968765,-0.15143850445747375,0.42591679096221924,0.09420640021562576,-0.05190769210457802,-0.21222209930419922,-0.36881157755851746,-0.41856029629707336,-0.7254003286361694,-0.1928689330816269,0.5635696053504944,-0.13615760207176208,0.006742002908140421,0.3960098326206207,-0.05581456050276756,-0.0006705050473101437,0.4367349445819855,0.4195185601711273,-0.4737837314605713,-0.5839820504188538,-0.6470067501068115,-0.1144605353474617,0.5425500273704529,-0.28285062313079834,-0.6914970278739929,-0.7121684551239014,-0.5514666438102722,0.2503557801246643,0.27439984679222107,0.5046021938323975,-0.7567057013511658,0.12118352204561234,-0.04789532348513603,0.11221262067556381,-0.5187237858772278,0.6560968160629272,-0.10263919085264206,0.4244539737701416,0.06198916211724281,-0.10707604885101318,-0.054987818002700806,-0.15305277705192566,-0.482573926448822,-0.5063554644584656,0.06065473333001137,-0.3661097288131714,0.33136317133903503,-0.033497314900159836,-0.4035547375679016,0.6232102513313293,-0.026880228891968727,0.5230115652084351,-0.4001657962799072,-0.052211787551641464,0.6642941236495972,-0.48902371525764465,0.5009387135505676,0.39038658142089844,-0.20857815444469452,0.6876373887062073,0.7610210180282593,0.11496353894472122,0.2627132833003998,-0.010354491882026196,-0.5496635437011719,-0.3923881947994232,-0.435940146446228,-0.13287585973739624,-0.35481974482536316,-0.5355631709098816,0.2964695990085602,-0.32112833857536316,-0.3045103847980499,0.31608572602272034,-0.24486343562602997,0.42136695981025696,0.603949785232544,-0.4081610441207886,0.32285621762275696,-0.6902301907539368,-0.15635371208190918,-0.17421382665634155,0.5227804183959961,-0.14200012385845184,0.19146977365016937,0.4499116539955139,0.473301500082016,-0.06601410359144211,0.07958263903856277,0.6629250049591064,-0.5270729660987854,-0.33393797278404236,0.2210356891155243,-0.2020025998353958,0.17692705988883972,-0.6160416007041931,0.42524322867393494,-0.5112622976303101,-0.5918077826499939,-0.33051806688308716,0.2713041603565216,-0.4760124087333679,-0.5341499447822571,-0.28337058424949646,-0.12230424582958221,-0.1757563054561615,0.08043092489242554,0.29709529876708984,-0.3092913031578064,0.603314220905304,0.40863072872161865,-0.29514428973197937,-0.35335037112236023,-0.22486358880996704,-0.004877255763858557,0.16360141336917877,0.5023178458213806,-0.04574919119477272,-0.12572652101516724,-0.6312374472618103,0.28224262595176697,-0.5793394446372986,0.0829426571726799,0.3161975145339966,-0.4273063540458679,-0.16946397721767426,-0.013929200358688831,0.6742749810218811,-0.3106762766838074,-0.06484757363796234,0.5363271832466125,0.21306483447551727,0.3093298673629761,-0.5311055183410645,-0.3099096715450287,0.2058248668909073,-0.1777009218931198,-0.5334059000015259,-0.4216465950012207,0.6993792057037354,-0.6402975916862488,0.12870019674301147,0.039062436670064926,-0.7248251438140869,-0.3658836781978607,-0.5165933966636658,-0.701312780380249,0.07428958266973495,-0.5970087647438049,0.6741960048675537,0.3544902205467224,0.009055797941982746,0.04745778068900108,0.4373684823513031,-0.24424883723258972,-0.5015053153038025,0.38157451152801514,0.42243635654449463,0.47987064719200134,-0.48715880513191223,0.47011685371398926,-0.7460723519325256,0.45968490839004517,0.13635046780109406,0.25326234102249146,0.6784971952438354,-0.4085017144680023,0.6589891314506531,-0.37320053577423096,-0.22105826437473297,0.07942874729633331,0.596967339515686,0.8289986252784729,-0.1868913173675537,-0.26008254289627075,0.27909162640571594,-0.052197378128767014,0.26042553782463074,0.4354683756828308,-0.5001696348190308,0.5510978698730469,0.17196886241436005,0.07137346267700195,-0.03375881537795067,-0.7056132555007935,0.19226191937923431,0.09174805134534836,0.21142949163913727,-0.2005840390920639,0.647814929485321,-0.09434425085783005,-0.4834957718849182,-0.3709850609302521,0.2959165573120117,0.06638222187757492,0.06223714351654053,0.18681354820728302,-0.02960844337940216,-0.07214777171611786,0.20598715543746948,-0.012767383828759193,-0.5178754925727844,-0.11418794095516205,-0.4340144395828247,0.7603297829627991,0.6358656883239746,-0.6289334893226624,0.5737276077270508,-0.0675695538520813,-0.50430828332901,-0.24245396256446838,-0.47651877999305725,-0.6282577514648438,-0.598897397518158,-0.3684101402759552,-0.1682843565940857,0.7109699845314026,0.3640434443950653,0.5726847648620605,-0.5865362286567688,-0.3954906761646271,0.42731156945228577,-0.13572154939174652,0.21579651534557343,0.17892880737781525,0.08069416880607605,0.37018030881881714,0.2801685929298401,0.17138704657554626,-0.4067731201648712,-0.6501878499984741,0.40864890813827515,-0.37585559487342834,-0.3273008465766907,-0.09690498560667038,0.45282649993896484,0.08013134449720383,-0.5297104716300964,0.531245231628418,-0.6961004137992859,-0.06296108663082123,-0.22727209329605103,-0.5074644088745117,0.037851590663194656,0.0836048349738121,-0.6462970972061157,0.20373177528381348,0.3904893696308136,-0.46249762177467346,-0.6432523131370544,-0.009534725919365883,-0.6512839794158936,0.060493048280477524,0.10324230045080185,0.34807655215263367,0.10642439126968384,-0.10060550272464752,0.3644309341907501,0.32369524240493774,-0.5974918603897095,-0.10118112713098526,-0.3034094274044037,-0.6751465797424316,-0.3674421012401581,0.20564067363739014,0.5491747856140137,-0.3117866814136505,-0.24721035361289978,0.4346931278705597,0.5297151207923889,0.3613647222518921,-0.2652517259120941,-0.4218951165676117,0.18606697022914886,0.2852141261100769,-0.16959138214588165,0.3435416519641876,-0.5510050654411316,-0.2118024379014969,0.3898776173591614,-0.29254138469696045,0.550905168056488,0.3249417543411255,0.3154681921005249,0.4898376762866974,0.6992133259773254,-0.1377446949481964,-0.19342142343521118,0.35650187730789185,-0.08977165818214417,0.37417012453079224,-0.13105852901935577,-0.3556631803512573,-0.17925646901130676,0.5649952292442322,-0.6030394434928894,-0.5914164185523987,0.45941001176834106,-0.16190609335899353,0.5608447790145874,-0.5415675044059753,0.3349263072013855,-0.6958688497543335,-0.022383861243724823,-0.034127019345760345,-0.2774973511695862,-0.008732588961720467,0.551115870475769,0.5844072699546814,-0.491700142621994,0.03232909366488457,0.28956639766693115,-0.14313167333602905,-0.06497020274400711,-0.004803551826626062,-0.49002739787101746,0.42503979802131653,0.3524840772151947,0.664604127407074,0.06147661805152893,-0.05460401996970177,-0.21716517210006714,0.34495505690574646,0.3021181523799896,-0.6410046815872192,0.7350749969482422,-0.16855518519878387,-0.0665094405412674,0.4730527997016907,0.7759777307510376,-0.6695756316184998,-0.695631206035614,-0.00448695058003068,0.7001416683197021,0.512514054775238,0.5928758978843689,0.10659442842006683,-0.6269695162773132,-0.41438549757003784,0.14014899730682373,-0.3891424238681793,-0.6435173749923706,-0.13782574236392975,0.3931061029434204,-0.19309604167938232,0.3823617398738861,-0.08583453297615051,-0.41508567333221436,-0.611693799495697,0.08056022971868515,-0.20982176065444946,-0.10038706660270691,-0.5910021662712097,-0.36674582958221436,0.427842915058136,0.24419362843036652,0.1859302818775177,0.28713715076446533,-0.5166804790496826,0.2859078347682953,-0.493380069732666,-0.14040635526180267,0.6184786558151245,0.03453122451901436,0.04353266581892967,0.3901371955871582,0.03340199962258339,0.07921934872865677,-0.12564927339553833,0.3239167630672455,-0.17283228039741516,0.011402727104723454,0.35520899295806885,-0.18234577775001526,-0.37284061312675476,-0.3824216425418854,-0.2727648913860321,-0.11782574653625488,-0.1148320809006691,0.08467262238264084,-0.39745521545410156,-0.11356278508901596,0.4321969151496887,-0.12091272324323654,0.0773463323712349,-0.751939058303833,0.02995862253010273,0.09609565883874893,-0.43853485584259033,-0.27148371934890747,-0.15509599447250366,0.12540538609027863,-0.41170671582221985,0.3395128846168518,-0.647724986076355,-0.41056108474731445,0.14294853806495667,0.12919963896274567,-0.47922754287719727,-0.4685148000717163,-0.16620862483978271,-0.3597908318042755,0.4373859465122223,0.5486768484115601,0.2940491735935211,-0.42627760767936707,-0.006961877923458815,-0.4351304769515991,0.49131813645362854,0.4687355160713196,0.4509414732456207,-0.1010255217552185,-0.6816551089286804,-0.267971009016037,-0.35223591327667236,-0.5403390526771545,-0.05378708243370056,-0.05929721146821976,-0.5726652145385742,0.26031792163848877,0.7847135066986084,0.5041744112968445,-0.015111850574612617,-0.6453843116760254,0.34171876311302185,-0.16489872336387634,-0.15620258450508118,-0.19342941045761108,0.010515985079109669,-0.2272416055202484,0.27653905749320984,0.499599814414978,0.4543774127960205,-0.7596046328544617,0.5312861800193787,0.7831015586853027,-0.06838854402303696,0.26572921872138977,-0.46049216389656067,0.38891229033470154,-0.25115537643432617,-0.6710310578346252,0.15914316475391388,-0.44303208589553833,0.5214762687683105,-0.33261343836784363,-0.4624592065811157,-0.6397019624710083,-0.214833065867424,0.1587318331003189,-0.23059797286987305,0.23336663842201233,-0.2251862734556198,0.1775466501712799,-0.06619840860366821,-0.5604705214500427,0.7511678338050842,-0.3189673125743866,-0.3204893171787262,0.5073636174201965,0.06511648744344711,0.24189002811908722,0.3920241594314575,0.29418042302131653,0.13200010359287262,-0.1036742776632309,-0.36888396739959717,-0.7084330320358276,0.6860817670822144,-0.18503281474113464,0.5247219204902649,0.38832899928092957,-0.37674951553344727,0.23533391952514648,-0.6808797121047974,-0.3664158284664154,-0.31529709696769714,0.5006083250045776,0.15113742649555206,0.4847521483898163,-0.4721863567829132,-0.3012964725494385,-0.16914024949073792,0.3504151403903961,0.3789331912994385,-0.1908336877822876,0.38709041476249695,-0.5182896256446838,-0.37472450733184814,-0.19659768044948578,-0.23717570304870605,-0.05294552072882652,-0.21775482594966888,0.3560252785682678,0.3088003695011139,-0.32332485914230347,-0.6411885619163513,0.5066800117492676,0.1996731162071228,0.012805365957319736,0.6392694711685181,-0.060680508613586426,0.6772255897521973,0.5454584956169128,-0.5619868040084839,0.1875080168247223,0.5743009448051453,-0.33526811003685,-0.037652116268873215,-0.14895692467689514,0.2027197927236557,-0.10917409509420395,-0.310324490070343,-0.10604822635650635,0.363675981760025,-0.45290589332580566,-0.1471041738986969,-0.008999492041766644,0.3957478106021881,-0.46273237466812134,-0.48355913162231445,-0.035990141332149506,-0.4709327816963196,0.06437677890062332,-0.6713175177574158,-0.3850012719631195,0.35417473316192627,-0.48287078738212585,-0.4589570462703705,0.30531617999076843,0.14230424165725708,-0.261081337928772,-0.7121986150741577,0.3314594626426697,0.6635419130325317,0.6089255809783936,-0.2228279709815979,0.152978777885437,0.38299450278282166,-0.10107412934303284,0.30339887738227844,-0.5407466888427734,0.19764675199985504,-0.6005215048789978,0.6667552590370178,0.3898233473300934,0.08677071332931519,0.4080992043018341,-0.2128576636314392,-0.3677714467048645,-0.016336049884557724,-0.41353753209114075,-0.3079186975955963,0.4162811040878296,0.5152558088302612,-0.5391213893890381,0.46822452545166016,0.32679739594459534,0.502429187297821,0.006798095069825649,0.1632676124572754,0.3117450177669525,0.4587680697441101,0.3824121952056885,0.33840295672416687,-0.28648120164871216,0.6058688759803772,-0.24543100595474243,0.36285409331321716,0.48349136114120483,-0.11114931851625443,-0.3846043050289154,-0.18719039857387543,0.49855977296829224,-0.07802841812372208,-0.24399852752685547,0.45237547159194946,0.6099861264228821,0.516152560710907,-0.24967487156391144,-0.5363626480102539,0.10009599477052689,0.19961519539356232,0.4062950909137726,-0.34751808643341064,-0.18285493552684784,0.7413830161094666,-0.2789360582828522,-0.08871279656887054,0.1581956148147583,0.7860414981842041,-0.042254067957401276,0.29313603043556213,0.21981649100780487,-0.3729360103607178,-0.3862430453300476,0.16003671288490295,0.12913405895233154,0.040742162615060806,0.12941715121269226,-0.09455213695764542,-0.6242620944976807,0.4775274097919464,0.27874335646629333,-0.37225568294525146,-0.005999481771141291,0.10060139745473862,0.15993495285511017,-0.27927279472351074,0.2507941722869873,-0.32591134309768677,-0.08796043694019318,0.18940173089504242,0.48258325457572937,0.03667230159044266,0.20582807064056396,0.21568189561367035,-0.4481627643108368,0.23023247718811035,0.06095898523926735,-0.3986813426017761,0.05755862593650818,-0.19913922250270844,-0.189590722322464,-0.17735399305820465,-0.4459282159805298,-0.5210022330284119,0.37763264775276184,0.12197323888540268,-0.6299747824668884,-0.11674030125141144,0.4663020074367523,-0.4618430733680725,0.3813938498497009,-0.44061732292175293,0.09274061769247055,-0.3483823239803314,-0.13231149315834045,-0.5691370964050293,-0.10608620941638947,0.4390687346458435,-0.5032331347465515,-0.7056176066398621,0.49066251516342163,-0.31528225541114807,0.3646767735481262,-0.3233163356781006,-0.0022810669615864754,0.39139658212661743,-0.0742078348994255,0.15594236552715302,-0.17430099844932556,0.5476461052894592,-0.45959991216659546,-0.23379956185817719],\"z\":[0.21913215517997742,0.23895898461341858,-0.025820301845669746,0.1925736367702484,-0.13235227763652802,-0.14813223481178284,-0.12808236479759216,-0.1274644434452057,-0.10875898599624634,-0.10938611626625061,-0.14263182878494263,0.20784960687160492,-0.09230717271566391,-0.09807383269071579,0.21176744997501373,-0.09276551753282547,-0.13959142565727234,0.03174284100532532,-0.10845499485731125,-0.10123472660779953,-0.08554919809103012,-0.09568468481302261,0.07314947992563248,-0.11419562995433807,-0.14728674292564392,-0.130744069814682,0.25700220465660095,-0.09233278781175613,-0.09047655016183853,-0.1317163109779358,0.206062912940979,-0.12256298959255219,0.14434562623500824,0.22546304762363434,-0.11406710743904114,0.21124154329299927,0.2179233878850937,-0.13267405331134796,-0.1563476175069809,-0.09294380247592926,0.05353420227766037,-0.05851924791932106,0.20939050614833832,-0.1103174015879631,-0.08963319659233093,-0.09978026151657104,-0.08322734385728836,-0.09586627781391144,-0.13379782438278198,-0.11013882607221603,0.21953915059566498,-0.10013791918754578,-0.12474238127470016,-0.10455717146396637,-0.09800241142511368,0.2265957146883011,0.03255389258265495,-0.11815023422241211,-0.09234827756881714,0.2134549468755722,0.21052616834640503,-0.050738345831632614,0.23261362314224243,0.2117660790681839,0.16036833822727203,-0.11165640503168106,-0.14612413942813873,-0.12949176132678986,-0.11698302626609802,-0.10833520442247391,-0.11121799051761627,-0.016703106462955475,-0.12652869522571564,-0.10588806122541428,-0.13170915842056274,-0.11317625641822815,0.228689044713974,-0.14189405739307404,0.21325738728046417,0.22944821417331696,-0.11403008550405502,-0.11665881425142288,-0.11337529122829437,0.21437425911426544,0.22591574490070343,-0.14738333225250244,-0.11590296030044556,0.02958374284207821,-0.13388897478580475,-0.0968652069568634,0.014258677139878273,-0.09309319406747818,-0.09224816411733627,-0.0827295333147049,-0.13169333338737488,0.22779765725135803,-0.13920830190181732,-0.13869021832942963,-0.008991636335849762,-0.10805340111255646,-0.07214158028364182,0.19925540685653687,0.22088277339935303,0.26981404423713684,-0.08603385090827942,-0.10291283577680588,-0.12634414434432983,0.11646175384521484,-0.10509748756885529,-0.13906848430633545,-0.11703074723482132,-0.08987415581941605,-0.13898465037345886,-0.11172138154506683,0.20993906259536743,-0.10989702492952347,0.21899162232875824,-0.12329159677028656,-0.11680646985769272,-0.12659268081188202,0.23810158669948578,0.2288130819797516,-0.0677756741642952,-0.11283131688833237,-0.08181007951498032,-0.06937015056610107,0.1839274913072586,-0.1619667410850525,-0.10346683859825134,-0.1335357427597046,-0.08667716383934021,-0.1164567768573761,-0.11991915106773376,-0.06842853128910065,-0.09619999676942825,0.2225005328655243,-0.12770625948905945,0.21161124110221863,-0.10335638374090195,0.23966674506664276,0.2533889412879944,-0.13067816197872162,0.2528391182422638,-0.0912063792347908,0.2079814076423645,0.2628282308578491,-0.11865004152059555,-0.14810560643672943,0.25720545649528503,-0.12094403803348541,0.0807829201221466,0.2122635692358017,-0.1454336792230606,-0.12164577841758728,-0.10873288661241531,-0.14097757637500763,0.19527024030685425,-0.07241123169660568,-0.13127610087394714,-0.10864332318305969,0.2329803854227066,-0.08415564149618149,-0.0958276018500328,-0.14674633741378784,-0.11502029746770859,-0.09381433576345444,-0.06235233694314957,0.20942722260951996,-0.12612618505954742,0.2325523942708969,0.03942522779107094,0.25360244512557983,0.21213045716285706,0.2012714296579361,-0.11568377166986465,0.08496454358100891,0.2523348033428192,0.20596849918365479,-0.16720685362815857,-0.1412048041820526,-0.0962999165058136,0.25457140803337097,0.005642581265419722,-0.10841525346040726,0.24739967286586761,0.20446255803108215,-0.10802201926708221,-0.09717177599668503,-0.12315557897090912,-0.13176999986171722,0.017398277297616005,0.22462968528270721,-0.09701188653707504,-0.12492774426937103,-0.11422237008810043,-0.09720432758331299,0.1563694328069687,-0.10576824098825455,-0.116065613925457,0.2731272280216217,-0.10687506198883057,-0.10247233510017395,0.2160157412290573,-0.11801070719957352,0.21114592254161835,-0.09051608294248581,-0.0846199095249176,0.23971813917160034,-0.12049976736307144,-0.140109121799469,0.03864731267094612,0.20932798087596893,-0.1357148140668869,-0.09527523070573807,-0.12847402691841125,-0.09788592159748077,0.23297421634197235,-0.11631224304437637,-0.13893912732601166,-0.1005573570728302,-0.1031438410282135,0.2109060436487198,0.26310503482818604,-0.10935500264167786,-0.08820436149835587,0.22145767509937286,0.2183731645345688,0.04897601157426834,-0.10850366950035095,-0.08925192058086395,-0.054833900183439255,0.18628375232219696,0.02944311313331127,0.1981542855501175,-0.10312470048666,0.2336031049489975,0.07680211961269379,-0.1356273740530014,-0.11405008286237717,-0.09604423493146896,-0.12213104218244553,-0.10958537459373474,-0.1257382482290268,0.20838366448879242,-0.11757144331932068,0.19005389511585236,-0.12694190442562103,0.22927699983119965,-0.11775504797697067,-0.0937395840883255,-0.14475809037685394,0.2098245620727539,-0.1154925748705864,-0.13288366794586182,-0.10982225090265274,-0.10917404294013977,0.22913889586925507,0.2637219727039337,-0.07788891345262527,-0.0012091766111552715,-0.1180347129702568,-0.13933780789375305,-0.12320717424154282,0.07275121659040451,-0.0935332253575325,-0.12077672779560089,-0.10550437122583389,-0.006677159573882818,-0.13718748092651367,-0.07838420569896698,-0.09461264312267303,-0.10910136252641678,-0.08420353382825851,0.20551300048828125,-0.12916436791419983,-0.09913399070501328,-0.11253122240304947,0.20927642285823822,-0.09457146376371384,0.23030951619148254,0.22423282265663147,-0.11089629679918289,-0.11596382409334183,-0.09452155977487564,0.21271774172782898,0.07549051195383072,-0.14143481850624084,-0.09555315226316452,-0.1160927563905716,-0.10893236845731735,-0.09308446198701859,0.21711666882038116,-0.09912177175283432,0.0740341991186142,-0.11321898549795151,0.20264580845832825,-0.11475395411252975,-0.14190244674682617,0.031052669510245323,-0.13534021377563477,-0.14236311614513397,-0.0919651910662651,-0.0987161174416542,-0.09971722960472107,-0.09868742525577545,-0.11046966165304184,0.19748397171497345,-0.06221510097384453,0.20434623956680298,-0.08440729230642319,0.23903071880340576,-0.15242430567741394,-0.09356434643268585,-0.12839841842651367,-0.11443253606557846,0.21985284984111786,-0.09849181771278381,-0.04049631580710411,-0.10966461151838303,-0.10055738687515259,-0.14152373373508453,-0.0842767208814621,-0.1000310480594635,-0.04362922161817551,-0.11550132930278778,0.22768178582191467,-0.1337548941373825,-0.08536260575056076,-0.10201498866081238,0.16486507654190063,0.15360428392887115,-0.16121312975883484,-0.14923642575740814,-0.09715830534696579,0.21857087314128876,-0.12021435797214508,0.22294874489307404,-0.10885520279407501,-0.1048290804028511,-0.11151817440986633,-0.09710163623094559,-0.09205469489097595,0.2330954670906067,-0.1304865926504135,-0.12797832489013672,-0.088350310921669,-0.11509964615106583,-0.10558800399303436,-0.09473835676908493,0.21334820985794067,0.12375745922327042,0.006321812979876995,-0.11661490797996521,-0.1172265112400055,0.20296773314476013,0.12391974776983261,0.21350979804992676,0.20621003210544586,-0.11529408395290375,-0.09988750517368317,-0.09828153252601624,0.18042424321174622,-0.11712272465229034,-0.09599261730909348,-0.09427405148744583,0.2538577914237976,-0.08722728490829468,0.20798183977603912,-0.11320976912975311,0.2289610356092453,-0.12229835987091064,-0.0030016221571713686,0.014098326675593853,-0.09405521303415298,0.06878138333559036,-0.00983284879475832,0.20542208850383759,0.11567292362451553,0.16510696709156036,0.21505515277385712,0.08002137392759323,-0.12715193629264832,-0.10237225890159607,-0.08004316687583923,-0.11673621088266373,0.21936409175395966,0.2164638489484787,-0.08468984812498093,-0.09111446887254715,0.2295684516429901,-0.11318977177143097,0.13636906445026398,-0.03289176896214485,-0.1305161863565445,0.22264902293682098,0.2024862915277481,0.17558600008487701,-0.10197814553976059,-0.1367805451154709,-0.09227044135332108,0.2271852344274521,-0.0869813933968544,0.23363693058490753,-0.0983024314045906,0.22818544507026672,-0.13119365274906158,-0.13347260653972626,-0.10195901244878769,0.21655768156051636,0.06142955273389816,-0.15486150979995728,-0.1272602081298828,-0.027095559984445572,-0.10451853275299072,-0.15636903047561646,-0.12580321729183197,-0.1265178769826889,-0.11100270599126816,-0.11550436168909073,-0.1350519210100174,-0.10190357267856598,-0.09652698040008545,0.21092800796031952,0.15993203222751617,0.2172529250383377,0.22089439630508423,-0.11090833693742752,-0.145494744181633,-0.11169150471687317,-0.09140530228614807,0.25342872738838196,-0.07891242206096649,-0.10388457775115967,0.18269196152687073,-0.11701692640781403,0.14668557047843933,-0.0988604947924614,0.22028611600399017,-0.12028985470533371,0.23703929781913757,-0.16037097573280334,-0.09234719723463058,-0.09691216051578522,0.023055553436279297,-0.06775118410587311,0.04516236111521721,0.22307954728603363,-0.020278586074709892,0.21988722681999207,-0.10490782558917999,-0.1184103786945343,-0.12404640763998032,0.22529681026935577,0.22724604606628418,-0.0497630275785923,-0.09976214170455933,-0.12512405216693878,-0.10090358555316925,-0.1320284754037857,-0.11431895196437836,0.16419662535190582,0.20559243857860565,-0.10248325020074844,-0.11587514728307724,-0.1286347657442093,-0.09158822894096375,-0.12729720771312714,-0.09782572090625763,0.2206820249557495,-0.07675324380397797,-0.13082505762577057,0.03521563112735748,-0.11348427087068558,-0.10210961848497391,-0.11715222150087357,-0.0196062158793211,-0.10395926237106323,-0.09636427462100983,-0.12561136484146118,0.2504149377346039,-0.034552909433841705,0.20310552418231964,0.22849394381046295,-0.10948196798563004,-0.08464255928993225,0.22494398057460785,-0.10177458822727203,-0.1313391774892807,-0.06000811606645584,-0.08951772004365921,-0.02852906845510006,-0.14396966993808746,-0.1213323250412941,0.13729962706565857,0.2100476622581482,-0.08756924420595169,-0.1399381458759308,-0.13662458956241608,-0.1309092789888382,-0.1178705096244812,0.16748569905757904,0.14984829723834991,0.22505712509155273,-0.0995970219373703,0.21963055431842804,0.247354194521904,-0.09391577541828156,-0.08451821655035019,0.03835337981581688,0.20446817576885223,0.2294692099094391,-0.10074905306100845,0.21901485323905945,-0.08560236543416977,-0.10262146592140198,-0.13629840314388275,0.2293613851070404,-0.10726747661828995,-0.12869028747081757,0.2221522033214569,-0.0861876904964447,0.2376016527414322,-0.006325473077595234,0.1088319793343544,-0.11541884392499924,-0.10947061330080032,-0.14025314152240753,-0.08884549885988235,-0.11366089433431625,0.23924145102500916,0.21653172373771667,-0.11893343925476074,0.22812090814113617,-0.11519128829240799,-0.11375398933887482,-0.0060875131748616695,0.21023261547088623,-0.07966174185276031,-0.09785455465316772,0.2245129495859146,-0.13409382104873657,-0.08588656038045883,-0.12019295245409012,0.20519696176052094,-0.10059206187725067,-0.0971670150756836,0.21837425231933594,-0.13263387978076935,-0.0879102423787117,-0.07939497381448746,0.05655668303370476,-0.12550050020217896,-0.12148066610097885,0.208450049161911,0.22113028168678284,0.20138685405254364,-0.10722293704748154,-0.007018090691417456,-0.12988458573818207,-0.08647680282592773,-0.1475735753774643,0.03717881068587303,-0.1391409933567047,-0.10298281908035278,-0.10757410526275635,-0.12331616878509521,-0.1142766997218132,-0.13091214001178741,-0.14438362419605255,0.026957718655467033,-0.1288825273513794,-0.15141579508781433,0.2223072350025177,-0.11827094107866287,-0.13476717472076416,-0.03171316534280777,-0.13609813153743744,-0.0830739289522171,-0.059737782925367355,0.2502864599227905,0.2095714658498764,-0.09251583367586136,-0.10602404177188873,-0.13940253853797913,-0.03779168054461479,0.2378675490617752,-0.11862427741289139,-0.12474919855594635,-0.13509900867938995,-0.14206306636333466,0.22695951163768768,-0.022197658196091652,-0.10713475942611694,-0.07850434631109238,0.1046050637960434,-0.09357154369354248,0.10420802980661392,-0.10206977277994156,-0.11565947532653809,-0.07403351366519928,0.20917771756649017,-0.10962560027837753,0.0007137184147723019,-0.09366250038146973,-0.11556987464427948,0.19463181495666504,-0.05248979851603508,0.21617886424064636,-0.10630456358194351,-0.09593944251537323,0.2573249340057373,-0.1040729507803917,0.22291702032089233,0.017478633671998978,0.004580426495522261,0.2459200620651245,-0.08422010391950607,0.20329520106315613,-0.0857677310705185,-0.09399384260177612,-0.10847949236631393,-0.09920892119407654,-0.12381566315889359,-0.13836580514907837,-0.1512937992811203,-0.126827210187912,-0.10206329822540283,-0.13465219736099243,-0.11807028204202652,-0.04301568865776062,0.21076087653636932,0.23951731622219086,-0.09942641854286194,0.20977969467639923,0.19037967920303345,-0.10414373874664307,0.15582838654518127,0.12640517950057983,0.232524111866951,0.22529807686805725,-0.1441696435213089,0.20652006566524506,-0.11007634550333023,-0.10278993844985962,-0.09790235757827759,-0.13028468191623688,0.2083137482404709,-0.14178305864334106,0.23328888416290283,-0.10473284870386124,0.2461976557970047,-0.13374443352222443,0.22691050171852112,-0.10090026259422302,-0.09600869566202164,-0.09195849299430847,-0.114034004509449,-0.1340356469154358,-0.10978791117668152,0.26037248969078064,0.21327072381973267,-0.11164958775043488,-0.06082932651042938,-0.13978146016597748,-0.09261369705200195,-0.0975441113114357,0.22884798049926758,-0.10732374340295792,-0.1037667766213417,0.21477007865905762,-0.08099982142448425,-0.14026087522506714,0.20949779450893402,-0.0031544489320367575,0.0029390340205281973,0.2143281251192093,-0.10609617829322815,-0.12348048388957977,-0.10721425712108612,0.0047427150420844555,0.050404686480760574,-0.1277468055486679,-0.10088128596544266,-0.1010155901312828,0.008249939419329166,-0.1297268569469452,-0.09419913589954376,-0.14942337572574615,0.22938178479671478,-0.11460748314857483,-0.1044330820441246,-0.14232908189296722,0.03390109911561012,-0.11697307229042053,-0.06399381160736084,0.21957609057426453,-0.11828553676605225,0.2185060828924179,0.2062787562608719,-0.13305266201496124,-0.12707021832466125,0.10610605776309967,0.22033104300498962,0.08242754638195038,0.18881039321422577,-0.09830711036920547,-0.07995110005140305,0.005035352427512407,-0.10529032349586487,-0.11099787801504135,-0.0952540934085846,0.19973325729370117,0.19973905384540558,-0.12937241792678833,-0.14147700369358063,-0.098492331802845,-0.14350467920303345,-0.09922486543655396,0.17315636575222015,-0.13394193351268768,0.2247282713651657,0.12053024768829346,0.20029377937316895,-0.14269965887069702,0.21391253173351288,0.275971382856369,0.21178582310676575,-0.11712702363729477,-0.14858117699623108,-0.14879895746707916,-0.07558075338602066,-0.0742495208978653,-0.1389404982328415,-0.00903391744941473,-0.0833578109741211,0.1264851689338684,0.14616431295871735,0.199250727891922,0.17268292605876923,-0.14435353875160217,-0.06580160558223724,-0.09648306667804718,-0.14285989105701447,-0.14092297852039337,0.16614499688148499,-0.11451157927513123,-0.0777207612991333,-0.1008666604757309,-0.11658400297164917,0.2052820920944214,0.26812782883644104,-0.1323220133781433,0.21188724040985107,0.14673158526420593,-0.09326085448265076,0.048195745795965195,-0.1233190968632698,0.25225573778152466,-0.13644441962242126,-0.11922263354063034,0.17704306542873383,0.21365556120872498,0.20795264840126038,0.09507308900356293,-0.12384230643510818,-0.08204124867916107,-0.1013944074511528,0.2191750854253769,-0.10089246928691864,-0.11565599590539932,-0.1251656413078308,0.22223156690597534,-0.15655536949634552,-0.1090848445892334,0.2152664065361023,0.06309176981449127,0.2595185935497284,-0.1190018281340599,0.20384924113750458,0.19014617800712585,0.23085561394691467,-0.1149887815117836,-0.12374640256166458,0.2251352071762085,-0.07772666215896606,0.23288212716579437,0.20882757008075714,0.24734315276145935,-0.13767938315868378,0.22010622918605804,-0.11171137541532516,-0.13281090557575226,0.22375163435935974,-0.12340284883975983,-0.0906882956624031,0.2218133509159088,0.24089863896369934,-0.12090112268924713,0.02152438275516033,0.04790941998362541,-0.051447827368974686,0.24532300233840942,0.22950614988803864,-0.11833205819129944,0.2734980881214142,-0.13167451322078705,0.22649048268795013,-0.10371853411197662,-0.11630874127149582,-0.10133372247219086,-0.03257507085800171,-0.09606116265058517,-0.12919887900352478,0.22586891055107117,0.20262788236141205,0.030104972422122955,0.20252960920333862,-0.11157569289207458,-0.06696940213441849,-0.0661652535200119,-0.1273295283317566,-0.10054977983236313,0.21420149505138397,0.1292484849691391,0.2052893340587616,-0.007358986884355545,-0.09896214306354523,-0.10091359168291092,0.11628185957670212,-0.1021263599395752,0.051777616143226624,0.04345327615737915,-0.12957777082920074,-0.10033920407295227,0.22694915533065796,0.10432752966880798,-0.0863923504948616,-0.08640836924314499,0.2804008722305298,-0.08634236454963684,-0.13466998934745789,-0.14385275542736053,-0.09526117146015167,-0.107525534927845,-0.10100483149290085,-0.1433008909225464,-0.07237035036087036,-0.12623250484466553,-0.12587019801139832,0.06601883471012115,0.22329677641391754,-0.08978144079446793,0.2078799605369568,0.21675808727741241,-0.11601271480321884,0.19765587151050568,-0.09825588762760162,-0.12645874917507172,-0.00013283471344038844,-0.049281422048807144,0.12196630239486694,-0.14012528955936432,-0.09960164874792099,0.20703744888305664,0.2440519779920578,0.2124607264995575,0.19714172184467316,-0.091212697327137,-0.13448919355869293,-0.08814169466495514,-0.14706379175186157,0.005244320258498192,0.06055271998047829,-0.090347059071064,-0.11015159636735916,-0.12626178562641144,-0.11605469137430191,0.24114307761192322,-0.09667482227087021,-0.09701313823461533,-0.040334876626729965,-0.09155704081058502,-0.10687605291604996,-0.0977846086025238,0.2679431438446045,-0.0952950045466423,0.08221283555030823,0.23321816325187683,-0.0164651982486248,-0.13135041296482086,-0.11887166649103165,-0.08178779482841492,-0.11815644800662994,-0.10458660870790482,-0.08980874717235565,-0.10008426010608673,0.20586635172367096,0.23356993496418,-0.09285102039575577,0.09896102547645569,-0.10117308795452118,0.22369760274887085,-0.0905640572309494,0.2225164771080017,-0.10953503847122192,-0.10264740139245987,-0.12487349659204483,0.21755164861679077,0.2221492975950241,-0.09856247901916504,-0.15298357605934143,-0.11103023588657379,0.2749159038066864,-0.13095562160015106,0.2431088089942932,-0.12705254554748535,0.2211032211780548,0.1573348492383957,-0.0974205806851387,-0.11211371421813965,-0.11122742295265198,-0.10063640773296356,-0.10206302255392075,-0.09826571494340897,-0.12951700389385223,-0.14835527539253235,0.11151336133480072,-0.10517923533916473,0.20177406072616577,-0.11875349283218384,-0.01978357508778572,-0.09739970415830612,0.011406570672988892,0.23345507681369781,-0.1058715283870697,0.2140682190656662,0.02351868897676468,0.2201746553182602,-0.12295041233301163,-0.13319812715053558,-0.09898205101490021,-0.09881331771612167,0.2246471494436264,-0.1263764500617981,0.23572425544261932,-0.12637023627758026,0.20726434886455536,-0.10850679129362106,-0.09524578601121902,-0.11104290932416916,0.2143992781639099,-0.08691611140966415,-0.13483968377113342,-0.020053032785654068,-0.1319902539253235,0.21261349320411682,-0.09774740785360336,0.25311288237571716,-0.10488557815551758,-0.016992947086691856,0.21903318166732788,-0.10288862884044647,-0.1385212540626526,-0.05310821160674095,-0.09867067635059357,-0.1137191504240036,-0.14299143850803375,-0.13742178678512573,0.21445447206497192,-0.11300951987504959,-0.013964052312076092,-0.10887416452169418,-0.09792277961969376,-0.10761022567749023,-0.13621090352535248,-0.1168268471956253,0.21877305209636688,-0.10572484135627747,-0.13512083888053894,-0.1203586533665657,0.24592196941375732,0.2392740398645401,-0.15806351602077484,-0.09182088822126389,-0.08562496304512024,0.014262421987950802,-0.1348680555820465,0.21784372627735138,-0.10090840607881546,-0.06097441539168358,0.25228139758110046,0.24217469990253448,0.26814767718315125,0.1781701296567917,-0.1228669136762619,0.22102585434913635,0.24437597393989563,-0.13616666197776794,0.057794757187366486,0.062172647565603256,0.23038269579410553,0.20792721211910248,-0.09806716442108154,0.029204072430729866,-0.09943316876888275,-0.07893296331167221,0.2332269847393036,-0.08131509274244308,0.22069010138511658,-0.1529538929462433,-0.07973717898130417,-0.008788826875388622,-0.13666535913944244,-0.10933900624513626,-0.0975232794880867,0.2046486884355545,-0.0370563380420208,-0.12679557502269745,-0.11631818860769272,-0.08731623739004135,-0.0832584872841835,0.18194180727005005,0.2234555333852768,0.2017282098531723,-0.09033490717411041,-0.09096608310937881,-0.12141315639019012,0.10600484162569046,0.06227094680070877,-0.08981408178806305,-0.10273677855730057,0.2569148540496826,-0.08031413704156876,-0.10173169523477554,-0.13123370707035065,0.2031818926334381,-0.12487258017063141,-0.11916185915470123,0.20011675357818604,-0.1002199724316597,-0.12433172017335892,0.17828227579593658,-0.11062727868556976,0.21667534112930298,-0.11629307270050049,-0.11839769035577774,0.2152317315340042,-0.0826026201248169,0.2189405858516693,-0.1041191816329956,0.12882179021835327,-0.10685748606920242,0.2008199542760849,0.183310404419899,-0.13674405217170715,-0.1368558257818222,-0.12041288614273071,-0.1279400885105133,0.20839710533618927,-0.09873303025960922,0.19464953243732452,-0.08328163623809814,0.2272108942270279,-0.09654010832309723,-0.14947247505187988,-0.1186109334230423,-0.11454779654741287,0.21383938193321228,-0.07972602546215057,-0.08097250014543533,0.2283284068107605,0.028826018795371056,-0.09901299327611923,-0.08905800431966782,0.3000698685646057,0.19892382621765137,-0.13897596299648285,0.2289862036705017,-0.14354756474494934,0.18910188972949982,0.200684055685997,-0.14173439145088196,0.20509330928325653,0.2098662108182907,-0.11759450286626816,-0.13192087411880493,-0.12698039412498474,-0.08474621176719666,-0.09352632611989975,-0.09109503775835037,-0.11699893325567245,0.04747345671057701,0.1436930000782013,0.21936993300914764,-0.11065318435430527,0.21276123821735382,0.20230437815189362,0.2046210616827011,0.2237558215856552,0.24830538034439087,-0.10026197135448456,-0.10407926887273788,0.09034524857997894,-0.034199636429548264,-0.13347619771957397,0.1836024671792984,-0.10166040062904358,0.037882447242736816,-0.1255812644958496,0.23975709080696106,-0.14685320854187012,0.024424877017736435,-0.14023439586162567,-0.16206510365009308,-0.11113227903842926,-0.12251446396112442,0.2187364399433136,-0.0558522492647171,0.24448858201503754,-0.13450108468532562,-0.10670212656259537,-0.11482138931751251,0.20462574064731598,-0.1379629522562027,-0.11692769080400467,-0.10581755638122559,-0.08292428404092789,-0.1463981717824936,-0.09919551759958267,0.21778501570224762,0.21634237468242645,0.1154252290725708,0.21387173235416412,-0.09887532889842987,-0.07770075649023056,-0.10260768234729767,0.17644770443439484,-0.14031726121902466,-0.1152457669377327,-0.0866142138838768,-0.14047162234783173,-0.041624750941991806,0.2735183537006378,0.15839679539203644,-0.1095484122633934,0.23134422302246094,0.21478380262851715,0.21606020629405975,0.11216875910758972,0.2231748104095459,-0.11667626351118088,-0.11088123917579651,-0.07180992513895035,-0.1590854972600937,-0.09739510715007782,-0.09067352861166,0.1271945685148239,-0.09822443872690201,-0.10210870951414108,-0.08222832530736923,0.2203824669122696,0.2348262071609497,0.21280576288700104,0.2283991575241089,-0.03853480517864227,-0.1349426954984665,-0.10403314977884293,-0.10507924109697342,-0.08352445065975189,0.19932490587234497,-0.10712151229381561,-0.12551027536392212,-0.12189649790525436,0.2482227385044098,0.2028554379940033,0.2174755036830902,-0.09905418753623962,-0.12650401890277863,0.06783541291952133,0.20576098561286926,-0.11364071816205978,-0.0844416469335556,-0.1265336573123932,0.20939140021800995,-0.12595534324645996,-0.11871213465929031,-0.1295325756072998,-0.10965510457754135,-0.12087401002645493,-0.09912393242120743,0.23647992312908173,0.23542092740535736,-0.08303757011890411,0.004262321628630161,-0.09120072424411774,-0.12155041843652725,-0.09338565915822983,-0.06038865074515343,-0.06636467576026917,-0.11276409775018692,0.20325973629951477,0.2321527898311615,-0.0026849431451410055,-0.12499120086431503,-0.13529089093208313,-0.10527943819761276,0.1540868729352951,-0.11511783301830292,0.20378990471363068,0.17475488781929016,-0.11912934482097626,-0.11158902198076248,-0.07961168140172958,0.21571974456310272,-0.12355566024780273,-0.1055440753698349,-0.09281578660011292,-0.13358688354492188,0.22813504934310913,-0.13680700957775116,0.2302427887916565,0.2123367041349411,-0.07259859889745712,-0.0900881290435791,-0.14348486065864563,0.17051365971565247,0.23919612169265747,0.12882380187511444,-0.14794756472110748,-0.1307990700006485,-0.09550345689058304,-0.06144794449210167,0.23881134390830994,0.22235092520713806,-0.08870863169431686,-0.12920597195625305,-0.12635046243667603,-0.09743545204401016,0.23042821884155273,-0.10614938288927078,-0.13816103339195251,-0.09404373168945312,-0.10060809552669525,0.20470914244651794,-0.1178574338555336,0.1521940976381302,0.20909589529037476,0.2051064819097519,-0.10196565836668015,-0.09492110460996628,-0.05570971220731735,-0.1454554945230484,-0.10145921260118484,-0.11738703399896622,-0.06526540964841843,-0.1254391372203827,-0.12551210820674896,-0.12426774203777313,-0.10489320755004883,0.2646452784538269,-0.09732481092214584,-0.06412319839000702,-0.12233535200357437,-0.09327501803636551,-0.11803961545228958,0.20338961482048035,-0.11731983721256256,-0.09690731763839722,0.20098070800304413,-0.12086912244558334,0.2142895758152008,-0.09393042325973511,-0.10546789318323135,0.2161891609430313,-0.0916159451007843,-0.11859666556119919,-0.09704971313476562,-0.11736535280942917,-0.09244382381439209,0.17522546648979187,-0.08406832069158554,-0.08748535811901093,-0.10979143530130386,-0.1506776362657547,0.16900837421417236,0.11048019677400589,-0.10580365359783173,-0.03046940080821514,0.07754720747470856,0.22112073004245758,-0.1406952440738678,-0.13571797311306,-0.1154695376753807,-0.14419949054718018,0.2418757975101471,-0.06041526794433594,0.21365958452224731,-0.08414243906736374,0.23701123893260956,-0.1079341471195221,0.1392051726579666,0.09444928914308548,0.2089855670928955,-0.10507891327142715,0.2278856784105301,0.09921771287918091,-0.11734812706708908,0.2093844711780548,-0.108626589179039,-0.08792684972286224,-0.11403197050094604,0.227866992354393,-0.09536431729793549,0.19940167665481567,-0.12238447368144989,0.20322589576244354,-0.11199333518743515,-0.12762399017810822,-0.08588699251413345,-0.0873003825545311,-0.10085494816303253,-0.13844916224479675,0.15591534972190857,-0.06618872284889221,-0.1028682142496109,0.014918524771928787,-0.12412114441394806,0.06939389556646347,-0.11007721722126007,0.23189108073711395,-0.11286841332912445,-0.09915924072265625,-0.13661080598831177,-0.12692022323608398,-0.09396739304065704,-0.1023675948381424,0.1991843730211258,-0.09811630100011826,-0.11758861690759659,-0.10587023198604584,-0.10695619136095047,0.2135675847530365,-0.13341261446475983,0.19987602531909943,-0.09632524847984314,0.21262401342391968,0.20244835317134857,0.23557943105697632,0.20111112296581268,0.2191619724035263,-0.10043659806251526,-0.1095837727189064,-0.12849844992160797,-0.12815406918525696,0.2642543613910675,-0.11278977245092392,0.22180721163749695,0.27181464433670044,-0.09696901589632034,-0.02855456992983818,0.21497102081775665,0.031147319823503494,0.14937961101531982,-0.14155027270317078,-0.1354132443666458,-0.11386319249868393,0.07058396190404892,-0.10878967493772507,-0.09829215705394745,-0.1260949820280075,-0.13208414614200592,-0.13401281833648682,0.22973060607910156,-0.08785100281238556,0.042484525591135025,-0.05595538020133972,-0.09738766402006149,-0.10248857736587524,-0.1046711876988411,-0.12100357562303543,-0.11450999230146408,0.053208161145448685,0.21617428958415985,0.12916725873947144,0.17435608804225922,-0.090227410197258,0.14038799703121185,-0.04140858352184296,-0.12366357445716858,-0.09965907037258148,-0.09146838635206223,0.25668662786483765,-0.09732750803232193,-0.09141693264245987,-0.10363283008337021,-0.0824427604675293,-0.09664646536111832,-0.14074750244617462,0.026120560243725777,-0.14641569554805756,-0.12985759973526,-0.0282998476177454,0.2622104585170746,-0.09627100825309753,-0.12404859811067581,-0.12182503938674927,0.22396016120910645,0.22738181054592133,0.2079603374004364,-0.11300396174192429,-0.12792468070983887,-0.002680132631212473,-0.121319480240345,-0.10239193588495255,-0.13008517026901245,0.12652869522571564,0.22024627029895782,-0.12439338862895966,0.2163822501897812,0.059745512902736664,0.21547521650791168,-0.11560538411140442,-0.1528138667345047,0.18835411965847015,-0.1358262449502945,0.06168898567557335,-0.011166667565703392,-0.10147619247436523,0.18783675134181976,-0.11901330202817917,0.21070259809494019,-0.02535744197666645,0.211255744099617,0.1022534891963005,-0.1170615628361702,-0.12419036775827408,0.20999790728092194,-0.11909174919128418,0.21611924469470978,0.22152163088321686,-0.12967778742313385,-0.06622517108917236,-0.10302086919546127,-0.1362934410572052,0.23501789569854736,0.11025507748126984,-0.1324884593486786,-0.004285846371203661,0.20383399724960327,-0.10368125885725021,-0.10062117129564285,0.22186774015426636,-0.09642262011766434,0.19730144739151,-0.10107596963644028,-0.11975684762001038,-0.0067365639843046665,-0.1617169827222824,-0.10095688700675964,0.10372161865234375,-0.02636459656059742,-0.098090760409832,0.2094043642282486,0.2036985605955124,-0.12603172659873962,0.2277163714170456,-0.11883517354726791,-0.11215190589427948,0.07366600632667542,-0.1424323320388794,0.24448902904987335,-0.10028507560491562,-0.11412117630243301,-0.09632875770330429,0.16414950788021088,-0.1086275726556778,-0.11480217427015305,0.10806059092283249,-0.11902117729187012,0.22250594198703766,0.16991972923278809,0.19295038282871246,-0.1457405835390091,-0.09283995628356934,-0.1158372163772583,-0.11531702429056168,0.22821274399757385,0.2149551957845688,-0.1135190948843956,-0.10490576922893524,0.029251886531710625,-0.11784395575523376,0.21522514522075653,-0.12432073056697845,-0.1240834891796112,-0.058487970381975174,-0.08690036833286285,-0.11371999979019165,0.2330767810344696,0.24256761372089386,-0.02909758873283863,0.2508839964866638,-0.10203945636749268,-0.10486704856157303,-0.09750359505414963,-0.10506010800600052,-0.11234935373067856,0.18637676537036896,0.17125336825847626,0.20594985783100128,-0.10081832855939865,-0.151089608669281,-0.1182221844792366,-0.09506591409444809,-0.09605172276496887,-0.0027360678650438786,-0.10025134682655334,0.08808457106351852,0.10743633657693863,0.22711099684238434,0.11172051727771759,0.23515194654464722,0.24586112797260284,0.22178073227405548,-0.11484325677156448,-0.10106386244297028,0.13672763109207153,-0.1082567349076271,0.2682243883609772,-0.13077108561992645,0.2157507985830307,-0.047259148210287094,0.2178155779838562,-0.038032446056604385,-0.1014382466673851,0.15135565400123596,0.0020268214866518974,-0.0807603970170021,-0.09739826619625092,0.11163444072008133,-0.1109032928943634,0.06106951832771301,-0.07226718962192535,-0.10966579616069794,-0.09316114336252213,0.19693024456501007,-0.08066048473119736,0.09361867606639862,-0.123621866106987,-0.11261484771966934,-0.12251901626586914,-0.14080050587654114,-0.10309659689664841,0.22220417857170105,-0.09400732070207596,0.26505982875823975,-0.1375441998243332,-0.04712730646133423,-0.12160950899124146,-0.09213008731603622,-0.09680162370204926,-0.1282433122396469,0.010024532675743103,-0.11902692914009094,-0.14094023406505585,-0.09028799831867218,-0.08708417415618896,-0.08443842083215714,-0.08218972384929657,0.11159993708133698,-0.10161249339580536,-0.08099284023046494,0.18927547335624695,0.2200741022825241,-0.0342385359108448,-0.06626996397972107,0.09139097481966019,-0.10307425260543823,-0.10352866351604462,-0.10366752743721008,-0.10078036040067673,0.21749186515808105,-0.12185278534889221,-0.11672269552946091,-0.12528157234191895,0.11617794632911682,0.24288490414619446,-0.1509648561477661,-0.09869396686553955,0.22690582275390625,-0.10175574570894241,0.25805267691612244,0.20991766452789307,-0.10045100003480911,0.00539431581273675,-0.09607955813407898,-0.1234569102525711,-0.10293000936508179,-0.09772001206874847,0.26666051149368286,0.07251563668251038,0.21957333385944366,-0.09162784367799759,0.06397590786218643,-0.12625804543495178,0.21806024014949799,0.2228834480047226,-0.13241595029830933,-0.09138376265764236,0.20738168060779572,-0.09868039190769196,0.23246975243091583,0.08546912670135498,-0.14643564820289612,-0.10937927663326263,0.22252421081066132,0.2615319788455963,-0.11678361147642136,0.21145479381084442,0.2110828310251236,-0.09744011610746384,0.13957683742046356,-0.1212393268942833,0.19999933242797852,0.2164427787065506,-0.08755192160606384,-0.10651706159114838,0.23054105043411255,-0.08567043393850327,-0.06322355568408966,-0.10867371410131454,0.22029000520706177,-0.10053448379039764,-0.09673777967691422,0.04192904382944107,0.14670927822589874,0.21795615553855896,-0.11064449697732925,0.020947225391864777,-0.11934322863817215,-0.0823277160525322,-0.11452683061361313,-0.10531967133283615,-0.09248330444097519,-0.1153680756688118,-0.11507674306631088,0.041944146156311035,-0.06310158222913742,-0.08480367064476013,0.2641315162181854,-0.09208887815475464,-0.08464416861534119,-0.13775458931922913,-0.11774854362010956,-0.130064457654953,-0.08712061494588852,0.2374277412891388,0.22166967391967773,-0.08137103915214539,0.211105614900589,-0.15677706897258759,0.0074583012610673904,0.2395421266555786,-0.11885571479797363,0.05093760043382645,0.21732206642627716,0.14760945737361908,-0.09774806350469589,-0.10628005117177963,-0.06292245537042618,-0.11320535093545914,0.015193668194115162,-0.10800569504499435,0.21545462310314178,-0.10585648566484451,-0.12756004929542542,-0.12209734320640564,-0.07171931862831116,-0.10797176510095596,-0.11739624291658401,-0.11103808134794235,-0.10950485616922379,-0.141818568110466,-0.15319859981536865,0.261599063873291,-0.0938623920083046,-0.12127272039651871,-0.15220969915390015,0.2161465734243393,0.191494420170784,0.22009266912937164,0.20724377036094666,-0.07350033521652222,-0.12031398713588715,0.0015575250145047903,0.23511306941509247,-0.10291050374507904,-0.13095496594905853,-0.1303710639476776,-0.08408454805612564,0.2347378134727478,0.22992072999477386,0.22162632644176483,-0.15208709239959717,0.21298950910568237,-0.07457759231328964,-0.06474512070417404,-0.11930146813392639,0.2275230586528778,-0.09280862659215927,-0.10573281347751617,0.22319817543029785,-0.1006174385547638,0.21134036779403687,-0.09000079333782196,-0.09841863065958023,-0.10195302963256836,0.21652591228485107,-0.14991411566734314,-0.10694102197885513,-0.12119214236736298,-0.10348466038703918,-0.10125812143087387,0.20589742064476013,0.21406711637973785,-0.10429979115724564,0.22084297239780426,0.20592209696769714,-0.10281085222959518,0.14069586992263794,-0.12595614790916443,0.14715276658535004,0.21453820168972015,-0.1436614841222763,-0.1117216944694519,-0.10267975926399231,0.14391374588012695,-0.11364801973104477,0.24093303084373474,-0.145146906375885,-0.1022099032998085,-0.08937820047140121,0.06869380176067352,-0.13650614023208618,-0.12611424922943115,0.21297971904277802,-0.11287543922662735,0.20618124306201935,-0.12497760355472565,0.13353149592876434,-0.14098526537418365,0.2121051549911499,-0.15141986310482025,-0.14928103983402252,-0.1543840914964676,-0.12345552444458008,0.20463646948337555,-0.11249564588069916,-0.0271353330463171,-0.10927750170230865,-0.12724024057388306,-0.10037866979837418,-0.08847074210643768,-0.10756874829530716,-0.09783712029457092,-0.1278928965330124,-0.10476154088973999,-0.10917273908853531,-0.08481060713529587,-0.10682595521211624,0.13324154913425446,0.21527168154716492,0.22424358129501343,0.23136231303215027,-0.09306634217500687,0.1997525542974472,-0.08076458424329758,0.06405004858970642,-0.13465812802314758,-0.09367050975561142,-0.12019401043653488,-0.00683599803596735,-0.09599313139915466,-0.14508859813213348,0.2628851532936096,0.21891656517982483,-0.12865053117275238,0.22955764830112457,-0.13445328176021576,-0.06943638622760773,-0.07913113385438919,-0.04428260028362274,-0.12766492366790771,0.20184661448001862,0.21202543377876282,0.054465748369693756,-0.09720880538225174,0.2059324085712433,0.24590356647968292,0.21055836975574493,-0.1304924637079239,-0.12662965059280396,-0.10198825597763062,-0.09536604583263397,0.15883824229240417,-0.0888332948088646,-0.1144111230969429,-0.09930963814258575,0.21795929968357086,0.24091292917728424,-0.02999688684940338,-0.08944322913885117,-0.12536898255348206,-0.1083626076579094,0.2203184813261032,-0.1165686845779419,0.2523939311504364,-0.13630372285842896,-0.09327827394008636,-0.08537445217370987,-0.07699986547231674,0.21323642134666443,0.22066915035247803,-0.09769732505083084,-0.12321005761623383,-0.11711493879556656,0.19636347889900208,-0.14417357742786407,-0.09694298356771469,-0.11363954842090607,0.18072223663330078,0.1498597413301468,-0.15108749270439148,-0.1047479510307312,0.2419128119945526,-0.08404521644115448,0.2302975058555603,-0.13005773723125458,0.12334662675857544,-0.11652842164039612,-0.10292906314134598,-0.1091027781367302,-0.1102675274014473,0.22526708245277405,0.21123908460140228,-0.12258459627628326,-0.10323848575353622,-0.0926884263753891,-0.11480168998241425,-0.13165098428726196,0.22070153057575226,-0.12618142366409302,-0.08560860902070999,-0.1411614567041397,-0.11338093876838684,-0.10964393615722656,0.18030743300914764,0.22672931849956512,0.20769274234771729,-0.08841127902269363,0.0036147586070001125,0.20990422368049622,0.22621877491474152,-0.09230955690145493,-0.10826664417982101,-0.11614013463258743,0.21956367790699005,-0.16278964281082153,-0.09670114517211914,-0.09998500347137451,-0.11268861591815948,-0.09757089614868164,-0.12896676361560822,-0.103887639939785,-0.08864948153495789,-0.10836201161146164,0.13396331667900085,-0.11355170607566833,0.21663855016231537,-0.1028977558016777,-0.11654923856258392,-0.1273350715637207,-0.09502336382865906,-0.10434098541736603,-0.04938296973705292,0.2172853648662567,-0.10328789800405502,0.2523680329322815,-0.1322859674692154,-0.09628012031316757,-0.0975738987326622,0.23874309659004211,-0.0902971550822258,0.2480221539735794,-0.125526562333107,0.1493353396654129,-0.1421441286802292,0.19337330758571625,0.21658964455127716,-0.09810306876897812,-0.12046843022108078,-0.11550375819206238,-0.10660548508167267,0.07129461318254471,-0.11633475124835968,-0.10201693326234818,0.20464937388896942,0.20567844808101654,0.05282936617732048,0.26026755571365356,0.21214941143989563,-0.10234266519546509,-0.10051709413528442,0.2434692233800888,-0.13963384926319122,0.17876224219799042,-0.0888611450791359,0.21359212696552277,0.15556970238685608,0.20531687140464783,0.23109541833400726,0.21482862532138824,-0.11341062188148499,0.2220088243484497,0.256070613861084,-0.15025044977664948,0.22623030841350555,0.17155024409294128,-0.11168907582759857,-0.13122203946113586,-0.09278503060340881,-0.13930463790893555,0.21860189735889435,-0.14028126001358032,0.1484220027923584,0.08480492979288101,0.23053812980651855,-0.09556165337562561,0.023066304624080658,-0.1125890240073204,-0.13673114776611328,0.18857261538505554,-0.1063898354768753,-0.09590359032154083,-0.11488809436559677,-0.13726943731307983,-0.13053493201732635,-0.08923885971307755,-0.0897899940609932,-0.15119816362857819,0.08983408659696579,0.2235279083251953,-0.03823063522577286,0.22682078182697296,0.08377864211797714,0.19900232553482056,-0.04550905525684357,0.15216928720474243,0.11478970944881439,0.09766694903373718,-0.10674096643924713,0.16280975937843323,-0.037441685795784,-0.0939827635884285,-0.09910059720277786,-0.12341158092021942,0.2017643004655838,-0.10275235027074814,0.21773596107959747,-0.13871583342552185,-0.12317205965518951,-0.11451239138841629,0.21212534606456757,-0.09806939959526062,-0.13095909357070923,-0.14356522262096405,-0.10150616616010666,-0.034217480570077896,0.20703786611557007,-0.14263062179088593,0.15615278482437134,-0.11280924826860428,0.23054403066635132,-0.13796082139015198,-0.09849058836698532,0.16578489542007446,-0.125543475151062,-0.14512699842453003,-0.11383072286844254,-0.116602823138237,0.22248943150043488,0.22167213261127472,0.22356566786766052,0.09448837488889694,0.2385895550251007,0.22334887087345123,0.2189326286315918,-0.07303659617900848,-0.12512175738811493,0.19677458703517914],\"type\":\"scatter3d\"}],                        {\"template\":{\"data\":{\"histogram2dcontour\":[{\"type\":\"histogram2dcontour\",\"colorbar\":{\"outlinewidth\":0,\"ticks\":\"\"},\"colorscale\":[[0.0,\"#0d0887\"],[0.1111111111111111,\"#46039f\"],[0.2222222222222222,\"#7201a8\"],[0.3333333333333333,\"#9c179e\"],[0.4444444444444444,\"#bd3786\"],[0.5555555555555556,\"#d8576b\"],[0.6666666666666666,\"#ed7953\"],[0.7777777777777778,\"#fb9f3a\"],[0.8888888888888888,\"#fdca26\"],[1.0,\"#f0f921\"]]}],\"choropleth\":[{\"type\":\"choropleth\",\"colorbar\":{\"outlinewidth\":0,\"ticks\":\"\"}}],\"histogram2d\":[{\"type\":\"histogram2d\",\"colorbar\":{\"outlinewidth\":0,\"ticks\":\"\"},\"colorscale\":[[0.0,\"#0d0887\"],[0.1111111111111111,\"#46039f\"],[0.2222222222222222,\"#7201a8\"],[0.3333333333333333,\"#9c179e\"],[0.4444444444444444,\"#bd3786\"],[0.5555555555555556,\"#d8576b\"],[0.6666666666666666,\"#ed7953\"],[0.7777777777777778,\"#fb9f3a\"],[0.8888888888888888,\"#fdca26\"],[1.0,\"#f0f921\"]]}],\"heatmap\":[{\"type\":\"heatmap\",\"colorbar\":{\"outlinewidth\":0,\"ticks\":\"\"},\"colorscale\":[[0.0,\"#0d0887\"],[0.1111111111111111,\"#46039f\"],[0.2222222222222222,\"#7201a8\"],[0.3333333333333333,\"#9c179e\"],[0.4444444444444444,\"#bd3786\"],[0.5555555555555556,\"#d8576b\"],[0.6666666666666666,\"#ed7953\"],[0.7777777777777778,\"#fb9f3a\"],[0.8888888888888888,\"#fdca26\"],[1.0,\"#f0f921\"]]}],\"heatmapgl\":[{\"type\":\"heatmapgl\",\"colorbar\":{\"outlinewidth\":0,\"ticks\":\"\"},\"colorscale\":[[0.0,\"#0d0887\"],[0.1111111111111111,\"#46039f\"],[0.2222222222222222,\"#7201a8\"],[0.3333333333333333,\"#9c179e\"],[0.4444444444444444,\"#bd3786\"],[0.5555555555555556,\"#d8576b\"],[0.6666666666666666,\"#ed7953\"],[0.7777777777777778,\"#fb9f3a\"],[0.8888888888888888,\"#fdca26\"],[1.0,\"#f0f921\"]]}],\"contourcarpet\":[{\"type\":\"contourcarpet\",\"colorbar\":{\"outlinewidth\":0,\"ticks\":\"\"}}],\"contour\":[{\"type\":\"contour\",\"colorbar\":{\"outlinewidth\":0,\"ticks\":\"\"},\"colorscale\":[[0.0,\"#0d0887\"],[0.1111111111111111,\"#46039f\"],[0.2222222222222222,\"#7201a8\"],[0.3333333333333333,\"#9c179e\"],[0.4444444444444444,\"#bd3786\"],[0.5555555555555556,\"#d8576b\"],[0.6666666666666666,\"#ed7953\"],[0.7777777777777778,\"#fb9f3a\"],[0.8888888888888888,\"#fdca26\"],[1.0,\"#f0f921\"]]}],\"surface\":[{\"type\":\"surface\",\"colorbar\":{\"outlinewidth\":0,\"ticks\":\"\"},\"colorscale\":[[0.0,\"#0d0887\"],[0.1111111111111111,\"#46039f\"],[0.2222222222222222,\"#7201a8\"],[0.3333333333333333,\"#9c179e\"],[0.4444444444444444,\"#bd3786\"],[0.5555555555555556,\"#d8576b\"],[0.6666666666666666,\"#ed7953\"],[0.7777777777777778,\"#fb9f3a\"],[0.8888888888888888,\"#fdca26\"],[1.0,\"#f0f921\"]]}],\"mesh3d\":[{\"type\":\"mesh3d\",\"colorbar\":{\"outlinewidth\":0,\"ticks\":\"\"}}],\"scatter\":[{\"fillpattern\":{\"fillmode\":\"overlay\",\"size\":10,\"solidity\":0.2},\"type\":\"scatter\"}],\"parcoords\":[{\"type\":\"parcoords\",\"line\":{\"colorbar\":{\"outlinewidth\":0,\"ticks\":\"\"}}}],\"scatterpolargl\":[{\"type\":\"scatterpolargl\",\"marker\":{\"colorbar\":{\"outlinewidth\":0,\"ticks\":\"\"}}}],\"bar\":[{\"error_x\":{\"color\":\"#2a3f5f\"},\"error_y\":{\"color\":\"#2a3f5f\"},\"marker\":{\"line\":{\"color\":\"#E5ECF6\",\"width\":0.5},\"pattern\":{\"fillmode\":\"overlay\",\"size\":10,\"solidity\":0.2}},\"type\":\"bar\"}],\"scattergeo\":[{\"type\":\"scattergeo\",\"marker\":{\"colorbar\":{\"outlinewidth\":0,\"ticks\":\"\"}}}],\"scatterpolar\":[{\"type\":\"scatterpolar\",\"marker\":{\"colorbar\":{\"outlinewidth\":0,\"ticks\":\"\"}}}],\"histogram\":[{\"marker\":{\"pattern\":{\"fillmode\":\"overlay\",\"size\":10,\"solidity\":0.2}},\"type\":\"histogram\"}],\"scattergl\":[{\"type\":\"scattergl\",\"marker\":{\"colorbar\":{\"outlinewidth\":0,\"ticks\":\"\"}}}],\"scatter3d\":[{\"type\":\"scatter3d\",\"line\":{\"colorbar\":{\"outlinewidth\":0,\"ticks\":\"\"}},\"marker\":{\"colorbar\":{\"outlinewidth\":0,\"ticks\":\"\"}}}],\"scattermapbox\":[{\"type\":\"scattermapbox\",\"marker\":{\"colorbar\":{\"outlinewidth\":0,\"ticks\":\"\"}}}],\"scatterternary\":[{\"type\":\"scatterternary\",\"marker\":{\"colorbar\":{\"outlinewidth\":0,\"ticks\":\"\"}}}],\"scattercarpet\":[{\"type\":\"scattercarpet\",\"marker\":{\"colorbar\":{\"outlinewidth\":0,\"ticks\":\"\"}}}],\"carpet\":[{\"aaxis\":{\"endlinecolor\":\"#2a3f5f\",\"gridcolor\":\"white\",\"linecolor\":\"white\",\"minorgridcolor\":\"white\",\"startlinecolor\":\"#2a3f5f\"},\"baxis\":{\"endlinecolor\":\"#2a3f5f\",\"gridcolor\":\"white\",\"linecolor\":\"white\",\"minorgridcolor\":\"white\",\"startlinecolor\":\"#2a3f5f\"},\"type\":\"carpet\"}],\"table\":[{\"cells\":{\"fill\":{\"color\":\"#EBF0F8\"},\"line\":{\"color\":\"white\"}},\"header\":{\"fill\":{\"color\":\"#C8D4E3\"},\"line\":{\"color\":\"white\"}},\"type\":\"table\"}],\"barpolar\":[{\"marker\":{\"line\":{\"color\":\"#E5ECF6\",\"width\":0.5},\"pattern\":{\"fillmode\":\"overlay\",\"size\":10,\"solidity\":0.2}},\"type\":\"barpolar\"}],\"pie\":[{\"automargin\":true,\"type\":\"pie\"}]},\"layout\":{\"autotypenumbers\":\"strict\",\"colorway\":[\"#636efa\",\"#EF553B\",\"#00cc96\",\"#ab63fa\",\"#FFA15A\",\"#19d3f3\",\"#FF6692\",\"#B6E880\",\"#FF97FF\",\"#FECB52\"],\"font\":{\"color\":\"#2a3f5f\"},\"hovermode\":\"closest\",\"hoverlabel\":{\"align\":\"left\"},\"paper_bgcolor\":\"white\",\"plot_bgcolor\":\"#E5ECF6\",\"polar\":{\"bgcolor\":\"#E5ECF6\",\"angularaxis\":{\"gridcolor\":\"white\",\"linecolor\":\"white\",\"ticks\":\"\"},\"radialaxis\":{\"gridcolor\":\"white\",\"linecolor\":\"white\",\"ticks\":\"\"}},\"ternary\":{\"bgcolor\":\"#E5ECF6\",\"aaxis\":{\"gridcolor\":\"white\",\"linecolor\":\"white\",\"ticks\":\"\"},\"baxis\":{\"gridcolor\":\"white\",\"linecolor\":\"white\",\"ticks\":\"\"},\"caxis\":{\"gridcolor\":\"white\",\"linecolor\":\"white\",\"ticks\":\"\"}},\"coloraxis\":{\"colorbar\":{\"outlinewidth\":0,\"ticks\":\"\"}},\"colorscale\":{\"sequential\":[[0.0,\"#0d0887\"],[0.1111111111111111,\"#46039f\"],[0.2222222222222222,\"#7201a8\"],[0.3333333333333333,\"#9c179e\"],[0.4444444444444444,\"#bd3786\"],[0.5555555555555556,\"#d8576b\"],[0.6666666666666666,\"#ed7953\"],[0.7777777777777778,\"#fb9f3a\"],[0.8888888888888888,\"#fdca26\"],[1.0,\"#f0f921\"]],\"sequentialminus\":[[0.0,\"#0d0887\"],[0.1111111111111111,\"#46039f\"],[0.2222222222222222,\"#7201a8\"],[0.3333333333333333,\"#9c179e\"],[0.4444444444444444,\"#bd3786\"],[0.5555555555555556,\"#d8576b\"],[0.6666666666666666,\"#ed7953\"],[0.7777777777777778,\"#fb9f3a\"],[0.8888888888888888,\"#fdca26\"],[1.0,\"#f0f921\"]],\"diverging\":[[0,\"#8e0152\"],[0.1,\"#c51b7d\"],[0.2,\"#de77ae\"],[0.3,\"#f1b6da\"],[0.4,\"#fde0ef\"],[0.5,\"#f7f7f7\"],[0.6,\"#e6f5d0\"],[0.7,\"#b8e186\"],[0.8,\"#7fbc41\"],[0.9,\"#4d9221\"],[1,\"#276419\"]]},\"xaxis\":{\"gridcolor\":\"white\",\"linecolor\":\"white\",\"ticks\":\"\",\"title\":{\"standoff\":15},\"zerolinecolor\":\"white\",\"automargin\":true,\"zerolinewidth\":2},\"yaxis\":{\"gridcolor\":\"white\",\"linecolor\":\"white\",\"ticks\":\"\",\"title\":{\"standoff\":15},\"zerolinecolor\":\"white\",\"automargin\":true,\"zerolinewidth\":2},\"scene\":{\"xaxis\":{\"backgroundcolor\":\"#E5ECF6\",\"gridcolor\":\"white\",\"linecolor\":\"white\",\"showbackground\":true,\"ticks\":\"\",\"zerolinecolor\":\"white\",\"gridwidth\":2},\"yaxis\":{\"backgroundcolor\":\"#E5ECF6\",\"gridcolor\":\"white\",\"linecolor\":\"white\",\"showbackground\":true,\"ticks\":\"\",\"zerolinecolor\":\"white\",\"gridwidth\":2},\"zaxis\":{\"backgroundcolor\":\"#E5ECF6\",\"gridcolor\":\"white\",\"linecolor\":\"white\",\"showbackground\":true,\"ticks\":\"\",\"zerolinecolor\":\"white\",\"gridwidth\":2}},\"shapedefaults\":{\"line\":{\"color\":\"#2a3f5f\"}},\"annotationdefaults\":{\"arrowcolor\":\"#2a3f5f\",\"arrowhead\":0,\"arrowwidth\":1},\"geo\":{\"bgcolor\":\"white\",\"landcolor\":\"#E5ECF6\",\"subunitcolor\":\"white\",\"showland\":true,\"showlakes\":true,\"lakecolor\":\"white\"},\"title\":{\"x\":0.05},\"mapbox\":{\"style\":\"light\"}}}},                        {\"responsive\": true}                    ).then(function(){\n",
              "                            \n",
              "var gd = document.getElementById('c1361a07-7673-40be-a16e-e9a4c3b477cc');\n",
              "var x = new MutationObserver(function (mutations, observer) {{\n",
              "        var display = window.getComputedStyle(gd).display;\n",
              "        if (!display || display === 'none') {{\n",
              "            console.log([gd, 'removed!']);\n",
              "            Plotly.purge(gd);\n",
              "            observer.disconnect();\n",
              "        }}\n",
              "}});\n",
              "\n",
              "// Listen for the removal of the full notebook cells\n",
              "var notebookContainer = gd.closest('#notebook-container');\n",
              "if (notebookContainer) {{\n",
              "    x.observe(notebookContainer, {childList: true});\n",
              "}}\n",
              "\n",
              "// Listen for the clearing of the current output cell\n",
              "var outputEl = gd.closest('.output');\n",
              "if (outputEl) {{\n",
              "    x.observe(outputEl, {childList: true});\n",
              "}}\n",
              "\n",
              "                        })                };                            </script>        </div>\n",
              "</body>\n",
              "</html>"
            ]
          },
          "metadata": {}
        }
      ]
    },
    {
      "cell_type": "code",
      "source": [],
      "metadata": {
        "id": "cSROhbs2afv3"
      },
      "execution_count": null,
      "outputs": []
    }
  ]
}